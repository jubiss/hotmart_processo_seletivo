{
 "cells": [
  {
   "attachments": {},
   "cell_type": "markdown",
   "metadata": {},
   "source": [
    "# Importação dos dados"
   ]
  },
  {
   "cell_type": "code",
   "execution_count": 26,
   "metadata": {},
   "outputs": [],
   "source": [
    "!pip install xgboost"
   ]
  },
  {
   "cell_type": "code",
   "execution_count": 2,
   "metadata": {},
   "outputs": [],
   "source": [
    "import os\n",
    "from pathlib import Path\n",
    "import pandas as pd\n",
    "import numpy as np\n",
    "path = Path(os.getcwd())\n",
    "path_parent = path.parent.absolute()\n",
    "os.chdir(path_parent)"
   ]
  },
  {
   "cell_type": "code",
   "execution_count": 27,
   "metadata": {},
   "outputs": [],
   "source": [
    "df = pd.read_csv(r'data\\sales_data.csv', index_col = 0)\n",
    "X_train = pd.read_csv('data\\processed\\pred_train_data.csv')\n",
    "X_test = pd.read_csv('data\\processed\\pred_test_data.csv')"
   ]
  },
  {
   "attachments": {},
   "cell_type": "markdown",
   "metadata": {},
   "source": [
    "# Initial Profilling"
   ]
  },
  {
   "cell_type": "code",
   "execution_count": 7,
   "metadata": {},
   "outputs": [],
   "source": [
    "from ydata_profiling import ProfileReport\n",
    "profile = ProfileReport(df, title=\"Profiling Sales Data\")"
   ]
  },
  {
   "cell_type": "code",
   "execution_count": 10,
   "metadata": {},
   "outputs": [
    {
     "name": "stderr",
     "output_type": "stream",
     "text": [
      "Export report to file: 100%|██████████| 1/1 [00:00<00:00, 40.70it/s]\n"
     ]
    }
   ],
   "source": [
    "profile.to_file('sales_data_report.html')"
   ]
  },
  {
   "attachments": {},
   "cell_type": "markdown",
   "metadata": {},
   "source": [
    "# Dependencia da Hotmart com maiores produtores"
   ]
  },
  {
   "attachments": {},
   "cell_type": "markdown",
   "metadata": {},
   "source": [
    "1- Trazer essas informações para um Dashboard interativo\n",
    "\n",
    "2- Fazer relação com distribuições de caudas longas 80/20\n",
    "\n",
    "3- Mostrar relação dos que possuem um grande volume de vendas com a importância deles no lucro da HotMart\n",
    "\n",
    "4- Mostrar relação dos que possuem um valor alto de vendas com a importância deles no lucro da Hotmart"
   ]
  },
  {
   "cell_type": "code",
   "execution_count": 4,
   "metadata": {},
   "outputs": [],
   "source": [
    "from sklearn.preprocessing import MinMaxScaler\n",
    "scaler = MinMaxScaler()\n",
    "df['purchase_transformed'] = scaler.fit_transform(df[['purchase_value']])\n",
    "sum_of_values = df.groupby(['producer_id']).agg(valor_total = ('purchase_value', 'sum'),\n",
    "                                                valor_transformed = ('purchase_transformed', 'sum'),\n",
    "                                                count = ('purchase_transformed', 'count')).reset_index()\n",
    "labels_cut = ['baixissimo_volume', 'baixo_volume', 'medio_volume', 'alto_volume', 'altissimo_volume']\n",
    "sum_of_values['total_qcut'] = pd.qcut(sum_of_values['valor_total'], q=5, labels=labels_cut)\n",
    "sum_of_values['transformed_qcut'] = pd.qcut(sum_of_values['valor_transformed'], q=5, labels=labels_cut)"
   ]
  },
  {
   "cell_type": "code",
   "execution_count": 7,
   "metadata": {},
   "outputs": [
    {
     "data": {
      "application/vnd.plotly.v1+json": {
       "config": {
        "plotlyServerURL": "https://plot.ly"
       },
       "data": [
        {
         "line": {
          "color": "royalblue"
         },
         "mode": "lines",
         "name": "Cumulative Revenue",
         "type": "scatter",
         "x": [
          0,
          1,
          2,
          3,
          4,
          5,
          6,
          7,
          8,
          9,
          10,
          11,
          12,
          13,
          14,
          15,
          16,
          17,
          18,
          19,
          20,
          21,
          22,
          23,
          24,
          25,
          26,
          27,
          28,
          29,
          30,
          31,
          32,
          33,
          34,
          35,
          36,
          37,
          38,
          39,
          40,
          41,
          42,
          43,
          44,
          45,
          46,
          47,
          48,
          49,
          50,
          51,
          52,
          53,
          54,
          55,
          56,
          57,
          58,
          59,
          60,
          61,
          62,
          63,
          64,
          65,
          66,
          67,
          68,
          69,
          70,
          71,
          72,
          73,
          74,
          75,
          76,
          77,
          78,
          79,
          80,
          81,
          82,
          83,
          84,
          85,
          86,
          87,
          88,
          89,
          90,
          91,
          92,
          93,
          94,
          95,
          96,
          97,
          98,
          99
         ],
         "y": [
          7.934070895317713e-7,
          0.0000028606328160270227,
          0.000007208092621818108,
          0.00001129934810306789,
          0.000017326909819101812,
          0.000026100549507195366,
          0.000033832961054185124,
          0.0000477365032081252,
          0.00005634837656320628,
          0.00007053627323849498,
          0.0000858258271440337,
          0.00010368966717647694,
          0.00012300531131177652,
          0.0001444448938592987,
          0.00016776295665168353,
          0.0001941080866175377,
          0.00022449869031687506,
          0.00025654341112940296,
          0.00031397679271002457,
          0.00033090309318064355,
          0.0003691940383538456,
          0.00041289172109141464,
          0.000460536007141999,
          0.0005152174670584271,
          0.0005743452572011129,
          0.0006393752514695709,
          0.0007214546875844375,
          0.0007878675569507707,
          0.0008671805568712501,
          0.0009540208358046731,
          0.0010488784633278403,
          0.0011532333045836886,
          0.0012683405208511985,
          0.0013856056152987345,
          0.0015144946021901282,
          0.0016536570094694315,
          0.0018045231243261981,
          0.0019628457742972105,
          0.002132914796110733,
          0.002317969464337651,
          0.002513279266861798,
          0.0027220732201699125,
          0.00294848278955019,
          0.0031884483772407777,
          0.0034457574178040572,
          0.003728043016953739,
          0.004027921919419541,
          0.004351992895970221,
          0.0047018336376057485,
          0.005083615445324061,
          0.0054791652443129555,
          0.005910312317741143,
          0.006370607487944482,
          0.006860655568390652,
          0.007387336836781322,
          0.00795273251801495,
          0.00855899391673695,
          0.009210372946407192,
          0.009913983693139873,
          0.010666911366177645,
          0.011466307979184154,
          0.012322814431575194,
          0.013250026352210108,
          0.014254395694432863,
          0.015337918122755876,
          0.01650315688762726,
          0.01775017115922499,
          0.019093876955016954,
          0.020540418523506097,
          0.02210851121660615,
          0.023811884503939083,
          0.025660119601136396,
          0.02765487140057522,
          0.02983885672407195,
          0.032231638016772736,
          0.034866019500235226,
          0.03777152655307905,
          0.04096770385902397,
          0.04450447367831941,
          0.04840751769394696,
          0.052692983777949086,
          0.05742662711414954,
          0.06271410324194551,
          0.06850566555748534,
          0.07501509601445665,
          0.08222329318978513,
          0.09035257346915805,
          0.09947888071484702,
          0.10985592421065521,
          0.12191190842457782,
          0.13583062375253427,
          0.15217547684699628,
          0.17222437578346728,
          0.19655224414426223,
          0.2260994472351413,
          0.2637939049208245,
          0.3146642527942677,
          0.38543342912090145,
          0.507299053170302,
          1
         ]
        }
       ],
       "layout": {
        "template": {
         "data": {
          "bar": [
           {
            "error_x": {
             "color": "#2a3f5f"
            },
            "error_y": {
             "color": "#2a3f5f"
            },
            "marker": {
             "line": {
              "color": "#E5ECF6",
              "width": 0.5
             },
             "pattern": {
              "fillmode": "overlay",
              "size": 10,
              "solidity": 0.2
             }
            },
            "type": "bar"
           }
          ],
          "barpolar": [
           {
            "marker": {
             "line": {
              "color": "#E5ECF6",
              "width": 0.5
             },
             "pattern": {
              "fillmode": "overlay",
              "size": 10,
              "solidity": 0.2
             }
            },
            "type": "barpolar"
           }
          ],
          "carpet": [
           {
            "aaxis": {
             "endlinecolor": "#2a3f5f",
             "gridcolor": "white",
             "linecolor": "white",
             "minorgridcolor": "white",
             "startlinecolor": "#2a3f5f"
            },
            "baxis": {
             "endlinecolor": "#2a3f5f",
             "gridcolor": "white",
             "linecolor": "white",
             "minorgridcolor": "white",
             "startlinecolor": "#2a3f5f"
            },
            "type": "carpet"
           }
          ],
          "choropleth": [
           {
            "colorbar": {
             "outlinewidth": 0,
             "ticks": ""
            },
            "type": "choropleth"
           }
          ],
          "contour": [
           {
            "colorbar": {
             "outlinewidth": 0,
             "ticks": ""
            },
            "colorscale": [
             [
              0,
              "#0d0887"
             ],
             [
              0.1111111111111111,
              "#46039f"
             ],
             [
              0.2222222222222222,
              "#7201a8"
             ],
             [
              0.3333333333333333,
              "#9c179e"
             ],
             [
              0.4444444444444444,
              "#bd3786"
             ],
             [
              0.5555555555555556,
              "#d8576b"
             ],
             [
              0.6666666666666666,
              "#ed7953"
             ],
             [
              0.7777777777777778,
              "#fb9f3a"
             ],
             [
              0.8888888888888888,
              "#fdca26"
             ],
             [
              1,
              "#f0f921"
             ]
            ],
            "type": "contour"
           }
          ],
          "contourcarpet": [
           {
            "colorbar": {
             "outlinewidth": 0,
             "ticks": ""
            },
            "type": "contourcarpet"
           }
          ],
          "heatmap": [
           {
            "colorbar": {
             "outlinewidth": 0,
             "ticks": ""
            },
            "colorscale": [
             [
              0,
              "#0d0887"
             ],
             [
              0.1111111111111111,
              "#46039f"
             ],
             [
              0.2222222222222222,
              "#7201a8"
             ],
             [
              0.3333333333333333,
              "#9c179e"
             ],
             [
              0.4444444444444444,
              "#bd3786"
             ],
             [
              0.5555555555555556,
              "#d8576b"
             ],
             [
              0.6666666666666666,
              "#ed7953"
             ],
             [
              0.7777777777777778,
              "#fb9f3a"
             ],
             [
              0.8888888888888888,
              "#fdca26"
             ],
             [
              1,
              "#f0f921"
             ]
            ],
            "type": "heatmap"
           }
          ],
          "heatmapgl": [
           {
            "colorbar": {
             "outlinewidth": 0,
             "ticks": ""
            },
            "colorscale": [
             [
              0,
              "#0d0887"
             ],
             [
              0.1111111111111111,
              "#46039f"
             ],
             [
              0.2222222222222222,
              "#7201a8"
             ],
             [
              0.3333333333333333,
              "#9c179e"
             ],
             [
              0.4444444444444444,
              "#bd3786"
             ],
             [
              0.5555555555555556,
              "#d8576b"
             ],
             [
              0.6666666666666666,
              "#ed7953"
             ],
             [
              0.7777777777777778,
              "#fb9f3a"
             ],
             [
              0.8888888888888888,
              "#fdca26"
             ],
             [
              1,
              "#f0f921"
             ]
            ],
            "type": "heatmapgl"
           }
          ],
          "histogram": [
           {
            "marker": {
             "pattern": {
              "fillmode": "overlay",
              "size": 10,
              "solidity": 0.2
             }
            },
            "type": "histogram"
           }
          ],
          "histogram2d": [
           {
            "colorbar": {
             "outlinewidth": 0,
             "ticks": ""
            },
            "colorscale": [
             [
              0,
              "#0d0887"
             ],
             [
              0.1111111111111111,
              "#46039f"
             ],
             [
              0.2222222222222222,
              "#7201a8"
             ],
             [
              0.3333333333333333,
              "#9c179e"
             ],
             [
              0.4444444444444444,
              "#bd3786"
             ],
             [
              0.5555555555555556,
              "#d8576b"
             ],
             [
              0.6666666666666666,
              "#ed7953"
             ],
             [
              0.7777777777777778,
              "#fb9f3a"
             ],
             [
              0.8888888888888888,
              "#fdca26"
             ],
             [
              1,
              "#f0f921"
             ]
            ],
            "type": "histogram2d"
           }
          ],
          "histogram2dcontour": [
           {
            "colorbar": {
             "outlinewidth": 0,
             "ticks": ""
            },
            "colorscale": [
             [
              0,
              "#0d0887"
             ],
             [
              0.1111111111111111,
              "#46039f"
             ],
             [
              0.2222222222222222,
              "#7201a8"
             ],
             [
              0.3333333333333333,
              "#9c179e"
             ],
             [
              0.4444444444444444,
              "#bd3786"
             ],
             [
              0.5555555555555556,
              "#d8576b"
             ],
             [
              0.6666666666666666,
              "#ed7953"
             ],
             [
              0.7777777777777778,
              "#fb9f3a"
             ],
             [
              0.8888888888888888,
              "#fdca26"
             ],
             [
              1,
              "#f0f921"
             ]
            ],
            "type": "histogram2dcontour"
           }
          ],
          "mesh3d": [
           {
            "colorbar": {
             "outlinewidth": 0,
             "ticks": ""
            },
            "type": "mesh3d"
           }
          ],
          "parcoords": [
           {
            "line": {
             "colorbar": {
              "outlinewidth": 0,
              "ticks": ""
             }
            },
            "type": "parcoords"
           }
          ],
          "pie": [
           {
            "automargin": true,
            "type": "pie"
           }
          ],
          "scatter": [
           {
            "fillpattern": {
             "fillmode": "overlay",
             "size": 10,
             "solidity": 0.2
            },
            "type": "scatter"
           }
          ],
          "scatter3d": [
           {
            "line": {
             "colorbar": {
              "outlinewidth": 0,
              "ticks": ""
             }
            },
            "marker": {
             "colorbar": {
              "outlinewidth": 0,
              "ticks": ""
             }
            },
            "type": "scatter3d"
           }
          ],
          "scattercarpet": [
           {
            "marker": {
             "colorbar": {
              "outlinewidth": 0,
              "ticks": ""
             }
            },
            "type": "scattercarpet"
           }
          ],
          "scattergeo": [
           {
            "marker": {
             "colorbar": {
              "outlinewidth": 0,
              "ticks": ""
             }
            },
            "type": "scattergeo"
           }
          ],
          "scattergl": [
           {
            "marker": {
             "colorbar": {
              "outlinewidth": 0,
              "ticks": ""
             }
            },
            "type": "scattergl"
           }
          ],
          "scattermapbox": [
           {
            "marker": {
             "colorbar": {
              "outlinewidth": 0,
              "ticks": ""
             }
            },
            "type": "scattermapbox"
           }
          ],
          "scatterpolar": [
           {
            "marker": {
             "colorbar": {
              "outlinewidth": 0,
              "ticks": ""
             }
            },
            "type": "scatterpolar"
           }
          ],
          "scatterpolargl": [
           {
            "marker": {
             "colorbar": {
              "outlinewidth": 0,
              "ticks": ""
             }
            },
            "type": "scatterpolargl"
           }
          ],
          "scatterternary": [
           {
            "marker": {
             "colorbar": {
              "outlinewidth": 0,
              "ticks": ""
             }
            },
            "type": "scatterternary"
           }
          ],
          "surface": [
           {
            "colorbar": {
             "outlinewidth": 0,
             "ticks": ""
            },
            "colorscale": [
             [
              0,
              "#0d0887"
             ],
             [
              0.1111111111111111,
              "#46039f"
             ],
             [
              0.2222222222222222,
              "#7201a8"
             ],
             [
              0.3333333333333333,
              "#9c179e"
             ],
             [
              0.4444444444444444,
              "#bd3786"
             ],
             [
              0.5555555555555556,
              "#d8576b"
             ],
             [
              0.6666666666666666,
              "#ed7953"
             ],
             [
              0.7777777777777778,
              "#fb9f3a"
             ],
             [
              0.8888888888888888,
              "#fdca26"
             ],
             [
              1,
              "#f0f921"
             ]
            ],
            "type": "surface"
           }
          ],
          "table": [
           {
            "cells": {
             "fill": {
              "color": "#EBF0F8"
             },
             "line": {
              "color": "white"
             }
            },
            "header": {
             "fill": {
              "color": "#C8D4E3"
             },
             "line": {
              "color": "white"
             }
            },
            "type": "table"
           }
          ]
         },
         "layout": {
          "annotationdefaults": {
           "arrowcolor": "#2a3f5f",
           "arrowhead": 0,
           "arrowwidth": 1
          },
          "autotypenumbers": "strict",
          "coloraxis": {
           "colorbar": {
            "outlinewidth": 0,
            "ticks": ""
           }
          },
          "colorscale": {
           "diverging": [
            [
             0,
             "#8e0152"
            ],
            [
             0.1,
             "#c51b7d"
            ],
            [
             0.2,
             "#de77ae"
            ],
            [
             0.3,
             "#f1b6da"
            ],
            [
             0.4,
             "#fde0ef"
            ],
            [
             0.5,
             "#f7f7f7"
            ],
            [
             0.6,
             "#e6f5d0"
            ],
            [
             0.7,
             "#b8e186"
            ],
            [
             0.8,
             "#7fbc41"
            ],
            [
             0.9,
             "#4d9221"
            ],
            [
             1,
             "#276419"
            ]
           ],
           "sequential": [
            [
             0,
             "#0d0887"
            ],
            [
             0.1111111111111111,
             "#46039f"
            ],
            [
             0.2222222222222222,
             "#7201a8"
            ],
            [
             0.3333333333333333,
             "#9c179e"
            ],
            [
             0.4444444444444444,
             "#bd3786"
            ],
            [
             0.5555555555555556,
             "#d8576b"
            ],
            [
             0.6666666666666666,
             "#ed7953"
            ],
            [
             0.7777777777777778,
             "#fb9f3a"
            ],
            [
             0.8888888888888888,
             "#fdca26"
            ],
            [
             1,
             "#f0f921"
            ]
           ],
           "sequentialminus": [
            [
             0,
             "#0d0887"
            ],
            [
             0.1111111111111111,
             "#46039f"
            ],
            [
             0.2222222222222222,
             "#7201a8"
            ],
            [
             0.3333333333333333,
             "#9c179e"
            ],
            [
             0.4444444444444444,
             "#bd3786"
            ],
            [
             0.5555555555555556,
             "#d8576b"
            ],
            [
             0.6666666666666666,
             "#ed7953"
            ],
            [
             0.7777777777777778,
             "#fb9f3a"
            ],
            [
             0.8888888888888888,
             "#fdca26"
            ],
            [
             1,
             "#f0f921"
            ]
           ]
          },
          "colorway": [
           "#636efa",
           "#EF553B",
           "#00cc96",
           "#ab63fa",
           "#FFA15A",
           "#19d3f3",
           "#FF6692",
           "#B6E880",
           "#FF97FF",
           "#FECB52"
          ],
          "font": {
           "color": "#2a3f5f"
          },
          "geo": {
           "bgcolor": "white",
           "lakecolor": "white",
           "landcolor": "#E5ECF6",
           "showlakes": true,
           "showland": true,
           "subunitcolor": "white"
          },
          "hoverlabel": {
           "align": "left"
          },
          "hovermode": "closest",
          "mapbox": {
           "style": "light"
          },
          "paper_bgcolor": "white",
          "plot_bgcolor": "#E5ECF6",
          "polar": {
           "angularaxis": {
            "gridcolor": "white",
            "linecolor": "white",
            "ticks": ""
           },
           "bgcolor": "#E5ECF6",
           "radialaxis": {
            "gridcolor": "white",
            "linecolor": "white",
            "ticks": ""
           }
          },
          "scene": {
           "xaxis": {
            "backgroundcolor": "#E5ECF6",
            "gridcolor": "white",
            "gridwidth": 2,
            "linecolor": "white",
            "showbackground": true,
            "ticks": "",
            "zerolinecolor": "white"
           },
           "yaxis": {
            "backgroundcolor": "#E5ECF6",
            "gridcolor": "white",
            "gridwidth": 2,
            "linecolor": "white",
            "showbackground": true,
            "ticks": "",
            "zerolinecolor": "white"
           },
           "zaxis": {
            "backgroundcolor": "#E5ECF6",
            "gridcolor": "white",
            "gridwidth": 2,
            "linecolor": "white",
            "showbackground": true,
            "ticks": "",
            "zerolinecolor": "white"
           }
          },
          "shapedefaults": {
           "line": {
            "color": "#2a3f5f"
           }
          },
          "ternary": {
           "aaxis": {
            "gridcolor": "white",
            "linecolor": "white",
            "ticks": ""
           },
           "baxis": {
            "gridcolor": "white",
            "linecolor": "white",
            "ticks": ""
           },
           "bgcolor": "#E5ECF6",
           "caxis": {
            "gridcolor": "white",
            "linecolor": "white",
            "ticks": ""
           }
          },
          "title": {
           "x": 0.05
          },
          "xaxis": {
           "automargin": true,
           "gridcolor": "white",
           "linecolor": "white",
           "ticks": "",
           "title": {
            "standoff": 15
           },
           "zerolinecolor": "white",
           "zerolinewidth": 2
          },
          "yaxis": {
           "automargin": true,
           "gridcolor": "white",
           "linecolor": "white",
           "ticks": "",
           "title": {
            "standoff": 15
           },
           "zerolinecolor": "white",
           "zerolinewidth": 2
          }
         }
        },
        "title": {
         "text": "Cumulative Revenue of Producers by Percentile"
        },
        "xaxis": {
         "title": {
          "text": "Percentile"
         }
        },
        "yaxis": {
         "title": {
          "text": "Cumulative Revenue"
         }
        }
       }
      }
     },
     "metadata": {},
     "output_type": "display_data"
    }
   ],
   "source": [
    "import plotly.graph_objects as go\n",
    "purchase = 'purchase_transformed'\n",
    "product_revenue = df.groupby(['product_id']).agg(revenue_product=(purchase, 'sum')).sort_values(by='revenue_product')\n",
    "product_revenue['cumulative_revenue'] = product_revenue['revenue_product'].cumsum()\n",
    "product_revenue['percentile'] = pd.qcut(product_revenue['revenue_product'], q=100, labels=False, duplicates='drop')\n",
    "# Group the DataFrame by percentile and calculate the cumulative sum of revenue for each percentile\n",
    "df_percentile = product_revenue.groupby('percentile')['cumulative_revenue'].max().reset_index()\n",
    "df_percentile['percentage_revenue'] = df_percentile['cumulative_revenue']/product_revenue['cumulative_revenue'].max()\n",
    "\n",
    "# Create the plot\n",
    "fig = go.Figure()\n",
    "fig.add_trace(go.Scatter(\n",
    "    x=df_percentile['percentile'],\n",
    "    y=df_percentile['percentage_revenue'],\n",
    "    mode='lines',\n",
    "    line=dict(color='royalblue'),\n",
    "    name='Cumulative Revenue'\n",
    "))\n",
    "fig.update_layout(\n",
    "    title='Cumulative Revenue of Producers by Percentile',\n",
    "    xaxis_title='Percentile',\n",
    "    yaxis_title='Cumulative Revenue',\n",
    ")\n",
    "\n",
    "# Show the figure\n",
    "fig.show()"
   ]
  },
  {
   "cell_type": "code",
   "execution_count": 8,
   "metadata": {},
   "outputs": [
    {
     "data": {
      "application/vnd.plotly.v1+json": {
       "config": {
        "plotlyServerURL": "https://plot.ly"
       },
       "data": [
        {
         "line": {
          "color": "gray",
          "width": 2
         },
         "mode": "lines",
         "name": "Outros produtos",
         "type": "scatter",
         "x": [
          0,
          1,
          2,
          3,
          4,
          5,
          6,
          7,
          8,
          9,
          10,
          11,
          12,
          13,
          14,
          15,
          16,
          17,
          18,
          19,
          20,
          21,
          22,
          23,
          24,
          25,
          26,
          27,
          28,
          29,
          30,
          31,
          32,
          33,
          34,
          35,
          36,
          37,
          38,
          39,
          40,
          41,
          42,
          43,
          44,
          45,
          46,
          47,
          48,
          49,
          50,
          51,
          52,
          53,
          54,
          55,
          56,
          57,
          58,
          59,
          60,
          61,
          62,
          63,
          64,
          65,
          66,
          67,
          68,
          69,
          70,
          71,
          72,
          73,
          74,
          75,
          76,
          77,
          78,
          79,
          80,
          81,
          82,
          83,
          84,
          85,
          86,
          87,
          88,
          89,
          90
         ],
         "y": [
          7.934070895317713e-7,
          0.0000028606328160270227,
          0.000007208092621818108,
          0.00001129934810306789,
          0.000016943668708969024,
          0.000026100549507195366,
          0.000033614829654285594,
          0.00004430110746912788,
          0.00005538580151558156,
          0.00006868043210370454,
          0.00008508853682221714,
          0.0001023313101782218,
          0.0001212516135270009,
          0.00014127417233380203,
          0.0001642282031329154,
          0.00018967868923992022,
          0.00022000147492870953,
          0.00025020376160684617,
          0.0002854148442733647,
          0.0003237840129247298,
          0.0003615289147275439,
          0.0004024844368455688,
          0.000449631239914498,
          0.0005018610145960361,
          0.0005593062533282768,
          0.0006219334114705449,
          0.0006922116799267817,
          0.0007666909162969459,
          0.0008439675696688666,
          0.0009278392372902225,
          0.0010189976449679636,
          0.0011188387569774226,
          0.0012469767945090884,
          0.0013447456372006905,
          0.0014686556385558073,
          0.0016025068018224726,
          0.0017658588018718234,
          0.0019014943043114375,
          0.0020651206093484937,
          0.0022430306842908727,
          0.0024335764261546825,
          0.0026337143378426164,
          0.002850421426932355,
          0.003081894934173418,
          0.0033289734448317047,
          0.0035958205893701994,
          0.0038846132556761485,
          0.004195204228558737,
          0.004528311315996819,
          0.004888308685330925,
          0.005273451650361637,
          0.00568738052096267,
          0.006125473498389373,
          0.006594164736244971,
          0.00709322537887354,
          0.007633341912447568,
          0.008211965995043181,
          0.008830118593416984,
          0.00949538899816598,
          0.01020862513610333,
          0.010974173414846878,
          0.011790879382158823,
          0.012666925935362096,
          0.01361154225838236,
          0.014632506938594017,
          0.01573278407462992,
          0.016914250372615267,
          0.01818315614929941,
          0.019543344789073235,
          0.021008041972900716,
          0.022596939052013657,
          0.024324082797427947,
          0.026194386698190353,
          0.0282217806453855,
          0.030433459297938774,
          0.03285504568140919,
          0.03552114272795635,
          0.03846290866111882,
          0.04170951132388868,
          0.045282337653607695,
          0.04923839597298972,
          0.0535505360466919,
          0.05833283130868497,
          0.06365310661284886,
          0.06951329100417472,
          0.07605839257863185,
          0.08330415656034111,
          0.09147281612616898,
          0.10062758241881335,
          0.11112180639903589,
          0.12322094240814212
         ]
        },
        {
         "line": {
          "color": "#ff4e1a",
          "width": 2
         },
         "mode": "lines",
         "name": "Maiores produtos",
         "type": "scatter",
         "x": [
          90,
          91,
          92,
          93,
          94,
          95,
          96,
          97,
          98,
          99,
          100
         ],
         "y": [
          0.12322094240814212,
          0.13717970985436062,
          0.15360694887700452,
          0.1737135949233234,
          0.1980495521822972,
          0.22777662035502294,
          0.2654875357199249,
          0.3163559365554698,
          0.38692208581305776,
          0.5082495740853816,
          1
         ]
        }
       ],
       "layout": {
        "plot_bgcolor": "rgba(0,0,0,0)",
        "template": {
         "data": {
          "bar": [
           {
            "error_x": {
             "color": "#2a3f5f"
            },
            "error_y": {
             "color": "#2a3f5f"
            },
            "marker": {
             "line": {
              "color": "#E5ECF6",
              "width": 0.5
             },
             "pattern": {
              "fillmode": "overlay",
              "size": 10,
              "solidity": 0.2
             }
            },
            "type": "bar"
           }
          ],
          "barpolar": [
           {
            "marker": {
             "line": {
              "color": "#E5ECF6",
              "width": 0.5
             },
             "pattern": {
              "fillmode": "overlay",
              "size": 10,
              "solidity": 0.2
             }
            },
            "type": "barpolar"
           }
          ],
          "carpet": [
           {
            "aaxis": {
             "endlinecolor": "#2a3f5f",
             "gridcolor": "white",
             "linecolor": "white",
             "minorgridcolor": "white",
             "startlinecolor": "#2a3f5f"
            },
            "baxis": {
             "endlinecolor": "#2a3f5f",
             "gridcolor": "white",
             "linecolor": "white",
             "minorgridcolor": "white",
             "startlinecolor": "#2a3f5f"
            },
            "type": "carpet"
           }
          ],
          "choropleth": [
           {
            "colorbar": {
             "outlinewidth": 0,
             "ticks": ""
            },
            "type": "choropleth"
           }
          ],
          "contour": [
           {
            "colorbar": {
             "outlinewidth": 0,
             "ticks": ""
            },
            "colorscale": [
             [
              0,
              "#0d0887"
             ],
             [
              0.1111111111111111,
              "#46039f"
             ],
             [
              0.2222222222222222,
              "#7201a8"
             ],
             [
              0.3333333333333333,
              "#9c179e"
             ],
             [
              0.4444444444444444,
              "#bd3786"
             ],
             [
              0.5555555555555556,
              "#d8576b"
             ],
             [
              0.6666666666666666,
              "#ed7953"
             ],
             [
              0.7777777777777778,
              "#fb9f3a"
             ],
             [
              0.8888888888888888,
              "#fdca26"
             ],
             [
              1,
              "#f0f921"
             ]
            ],
            "type": "contour"
           }
          ],
          "contourcarpet": [
           {
            "colorbar": {
             "outlinewidth": 0,
             "ticks": ""
            },
            "type": "contourcarpet"
           }
          ],
          "heatmap": [
           {
            "colorbar": {
             "outlinewidth": 0,
             "ticks": ""
            },
            "colorscale": [
             [
              0,
              "#0d0887"
             ],
             [
              0.1111111111111111,
              "#46039f"
             ],
             [
              0.2222222222222222,
              "#7201a8"
             ],
             [
              0.3333333333333333,
              "#9c179e"
             ],
             [
              0.4444444444444444,
              "#bd3786"
             ],
             [
              0.5555555555555556,
              "#d8576b"
             ],
             [
              0.6666666666666666,
              "#ed7953"
             ],
             [
              0.7777777777777778,
              "#fb9f3a"
             ],
             [
              0.8888888888888888,
              "#fdca26"
             ],
             [
              1,
              "#f0f921"
             ]
            ],
            "type": "heatmap"
           }
          ],
          "heatmapgl": [
           {
            "colorbar": {
             "outlinewidth": 0,
             "ticks": ""
            },
            "colorscale": [
             [
              0,
              "#0d0887"
             ],
             [
              0.1111111111111111,
              "#46039f"
             ],
             [
              0.2222222222222222,
              "#7201a8"
             ],
             [
              0.3333333333333333,
              "#9c179e"
             ],
             [
              0.4444444444444444,
              "#bd3786"
             ],
             [
              0.5555555555555556,
              "#d8576b"
             ],
             [
              0.6666666666666666,
              "#ed7953"
             ],
             [
              0.7777777777777778,
              "#fb9f3a"
             ],
             [
              0.8888888888888888,
              "#fdca26"
             ],
             [
              1,
              "#f0f921"
             ]
            ],
            "type": "heatmapgl"
           }
          ],
          "histogram": [
           {
            "marker": {
             "pattern": {
              "fillmode": "overlay",
              "size": 10,
              "solidity": 0.2
             }
            },
            "type": "histogram"
           }
          ],
          "histogram2d": [
           {
            "colorbar": {
             "outlinewidth": 0,
             "ticks": ""
            },
            "colorscale": [
             [
              0,
              "#0d0887"
             ],
             [
              0.1111111111111111,
              "#46039f"
             ],
             [
              0.2222222222222222,
              "#7201a8"
             ],
             [
              0.3333333333333333,
              "#9c179e"
             ],
             [
              0.4444444444444444,
              "#bd3786"
             ],
             [
              0.5555555555555556,
              "#d8576b"
             ],
             [
              0.6666666666666666,
              "#ed7953"
             ],
             [
              0.7777777777777778,
              "#fb9f3a"
             ],
             [
              0.8888888888888888,
              "#fdca26"
             ],
             [
              1,
              "#f0f921"
             ]
            ],
            "type": "histogram2d"
           }
          ],
          "histogram2dcontour": [
           {
            "colorbar": {
             "outlinewidth": 0,
             "ticks": ""
            },
            "colorscale": [
             [
              0,
              "#0d0887"
             ],
             [
              0.1111111111111111,
              "#46039f"
             ],
             [
              0.2222222222222222,
              "#7201a8"
             ],
             [
              0.3333333333333333,
              "#9c179e"
             ],
             [
              0.4444444444444444,
              "#bd3786"
             ],
             [
              0.5555555555555556,
              "#d8576b"
             ],
             [
              0.6666666666666666,
              "#ed7953"
             ],
             [
              0.7777777777777778,
              "#fb9f3a"
             ],
             [
              0.8888888888888888,
              "#fdca26"
             ],
             [
              1,
              "#f0f921"
             ]
            ],
            "type": "histogram2dcontour"
           }
          ],
          "mesh3d": [
           {
            "colorbar": {
             "outlinewidth": 0,
             "ticks": ""
            },
            "type": "mesh3d"
           }
          ],
          "parcoords": [
           {
            "line": {
             "colorbar": {
              "outlinewidth": 0,
              "ticks": ""
             }
            },
            "type": "parcoords"
           }
          ],
          "pie": [
           {
            "automargin": true,
            "type": "pie"
           }
          ],
          "scatter": [
           {
            "fillpattern": {
             "fillmode": "overlay",
             "size": 10,
             "solidity": 0.2
            },
            "type": "scatter"
           }
          ],
          "scatter3d": [
           {
            "line": {
             "colorbar": {
              "outlinewidth": 0,
              "ticks": ""
             }
            },
            "marker": {
             "colorbar": {
              "outlinewidth": 0,
              "ticks": ""
             }
            },
            "type": "scatter3d"
           }
          ],
          "scattercarpet": [
           {
            "marker": {
             "colorbar": {
              "outlinewidth": 0,
              "ticks": ""
             }
            },
            "type": "scattercarpet"
           }
          ],
          "scattergeo": [
           {
            "marker": {
             "colorbar": {
              "outlinewidth": 0,
              "ticks": ""
             }
            },
            "type": "scattergeo"
           }
          ],
          "scattergl": [
           {
            "marker": {
             "colorbar": {
              "outlinewidth": 0,
              "ticks": ""
             }
            },
            "type": "scattergl"
           }
          ],
          "scattermapbox": [
           {
            "marker": {
             "colorbar": {
              "outlinewidth": 0,
              "ticks": ""
             }
            },
            "type": "scattermapbox"
           }
          ],
          "scatterpolar": [
           {
            "marker": {
             "colorbar": {
              "outlinewidth": 0,
              "ticks": ""
             }
            },
            "type": "scatterpolar"
           }
          ],
          "scatterpolargl": [
           {
            "marker": {
             "colorbar": {
              "outlinewidth": 0,
              "ticks": ""
             }
            },
            "type": "scatterpolargl"
           }
          ],
          "scatterternary": [
           {
            "marker": {
             "colorbar": {
              "outlinewidth": 0,
              "ticks": ""
             }
            },
            "type": "scatterternary"
           }
          ],
          "surface": [
           {
            "colorbar": {
             "outlinewidth": 0,
             "ticks": ""
            },
            "colorscale": [
             [
              0,
              "#0d0887"
             ],
             [
              0.1111111111111111,
              "#46039f"
             ],
             [
              0.2222222222222222,
              "#7201a8"
             ],
             [
              0.3333333333333333,
              "#9c179e"
             ],
             [
              0.4444444444444444,
              "#bd3786"
             ],
             [
              0.5555555555555556,
              "#d8576b"
             ],
             [
              0.6666666666666666,
              "#ed7953"
             ],
             [
              0.7777777777777778,
              "#fb9f3a"
             ],
             [
              0.8888888888888888,
              "#fdca26"
             ],
             [
              1,
              "#f0f921"
             ]
            ],
            "type": "surface"
           }
          ],
          "table": [
           {
            "cells": {
             "fill": {
              "color": "#EBF0F8"
             },
             "line": {
              "color": "white"
             }
            },
            "header": {
             "fill": {
              "color": "#C8D4E3"
             },
             "line": {
              "color": "white"
             }
            },
            "type": "table"
           }
          ]
         },
         "layout": {
          "annotationdefaults": {
           "arrowcolor": "#2a3f5f",
           "arrowhead": 0,
           "arrowwidth": 1
          },
          "autotypenumbers": "strict",
          "coloraxis": {
           "colorbar": {
            "outlinewidth": 0,
            "ticks": ""
           }
          },
          "colorscale": {
           "diverging": [
            [
             0,
             "#8e0152"
            ],
            [
             0.1,
             "#c51b7d"
            ],
            [
             0.2,
             "#de77ae"
            ],
            [
             0.3,
             "#f1b6da"
            ],
            [
             0.4,
             "#fde0ef"
            ],
            [
             0.5,
             "#f7f7f7"
            ],
            [
             0.6,
             "#e6f5d0"
            ],
            [
             0.7,
             "#b8e186"
            ],
            [
             0.8,
             "#7fbc41"
            ],
            [
             0.9,
             "#4d9221"
            ],
            [
             1,
             "#276419"
            ]
           ],
           "sequential": [
            [
             0,
             "#0d0887"
            ],
            [
             0.1111111111111111,
             "#46039f"
            ],
            [
             0.2222222222222222,
             "#7201a8"
            ],
            [
             0.3333333333333333,
             "#9c179e"
            ],
            [
             0.4444444444444444,
             "#bd3786"
            ],
            [
             0.5555555555555556,
             "#d8576b"
            ],
            [
             0.6666666666666666,
             "#ed7953"
            ],
            [
             0.7777777777777778,
             "#fb9f3a"
            ],
            [
             0.8888888888888888,
             "#fdca26"
            ],
            [
             1,
             "#f0f921"
            ]
           ],
           "sequentialminus": [
            [
             0,
             "#0d0887"
            ],
            [
             0.1111111111111111,
             "#46039f"
            ],
            [
             0.2222222222222222,
             "#7201a8"
            ],
            [
             0.3333333333333333,
             "#9c179e"
            ],
            [
             0.4444444444444444,
             "#bd3786"
            ],
            [
             0.5555555555555556,
             "#d8576b"
            ],
            [
             0.6666666666666666,
             "#ed7953"
            ],
            [
             0.7777777777777778,
             "#fb9f3a"
            ],
            [
             0.8888888888888888,
             "#fdca26"
            ],
            [
             1,
             "#f0f921"
            ]
           ]
          },
          "colorway": [
           "#636efa",
           "#EF553B",
           "#00cc96",
           "#ab63fa",
           "#FFA15A",
           "#19d3f3",
           "#FF6692",
           "#B6E880",
           "#FF97FF",
           "#FECB52"
          ],
          "font": {
           "color": "#2a3f5f"
          },
          "geo": {
           "bgcolor": "white",
           "lakecolor": "white",
           "landcolor": "#E5ECF6",
           "showlakes": true,
           "showland": true,
           "subunitcolor": "white"
          },
          "hoverlabel": {
           "align": "left"
          },
          "hovermode": "closest",
          "mapbox": {
           "style": "light"
          },
          "paper_bgcolor": "white",
          "plot_bgcolor": "#E5ECF6",
          "polar": {
           "angularaxis": {
            "gridcolor": "white",
            "linecolor": "white",
            "ticks": ""
           },
           "bgcolor": "#E5ECF6",
           "radialaxis": {
            "gridcolor": "white",
            "linecolor": "white",
            "ticks": ""
           }
          },
          "scene": {
           "xaxis": {
            "backgroundcolor": "#E5ECF6",
            "gridcolor": "white",
            "gridwidth": 2,
            "linecolor": "white",
            "showbackground": true,
            "ticks": "",
            "zerolinecolor": "white"
           },
           "yaxis": {
            "backgroundcolor": "#E5ECF6",
            "gridcolor": "white",
            "gridwidth": 2,
            "linecolor": "white",
            "showbackground": true,
            "ticks": "",
            "zerolinecolor": "white"
           },
           "zaxis": {
            "backgroundcolor": "#E5ECF6",
            "gridcolor": "white",
            "gridwidth": 2,
            "linecolor": "white",
            "showbackground": true,
            "ticks": "",
            "zerolinecolor": "white"
           }
          },
          "shapedefaults": {
           "line": {
            "color": "#2a3f5f"
           }
          },
          "ternary": {
           "aaxis": {
            "gridcolor": "white",
            "linecolor": "white",
            "ticks": ""
           },
           "baxis": {
            "gridcolor": "white",
            "linecolor": "white",
            "ticks": ""
           },
           "bgcolor": "#E5ECF6",
           "caxis": {
            "gridcolor": "white",
            "linecolor": "white",
            "ticks": ""
           }
          },
          "title": {
           "x": 0.05
          },
          "xaxis": {
           "automargin": true,
           "gridcolor": "white",
           "linecolor": "white",
           "ticks": "",
           "title": {
            "standoff": 15
           },
           "zerolinecolor": "white",
           "zerolinewidth": 2
          },
          "yaxis": {
           "automargin": true,
           "gridcolor": "white",
           "linecolor": "white",
           "ticks": "",
           "title": {
            "standoff": 15
           },
           "zerolinecolor": "white",
           "zerolinewidth": 2
          }
         }
        },
        "xaxis": {
         "showgrid": false,
         "title": {
          "text": "Percentil produtos por faturamento"
         }
        },
        "yaxis": {
         "showgrid": false,
         "title": {
          "text": "Percentual do faturamento"
         }
        }
       }
      }
     },
     "metadata": {},
     "output_type": "display_data"
    }
   ],
   "source": [
    "def plot_cumulative_revenue(df, purchase, threshold):\n",
    "    # Your data processing code\n",
    "    product_revenue = df.groupby(['product_id']).agg(revenue_product=(purchase, 'sum')).sort_values(by='revenue_product')\n",
    "    product_revenue['cumulative_revenue'] = product_revenue['revenue_product'].cumsum()\n",
    "    product_revenue['percentile'] = pd.qcut(product_revenue['revenue_product'], q=101, labels=False, duplicates='drop')\n",
    "    df_percentile = product_revenue.groupby('percentile')['cumulative_revenue'].max().reset_index()\n",
    "    df_percentile['percentage_revenue'] = df_percentile['cumulative_revenue'] / product_revenue['cumulative_revenue'].max()\n",
    "\n",
    "    # Create the plot\n",
    "    fig = go.Figure()\n",
    "    blue_line = df_percentile[df_percentile['percentile'] <= threshold]\n",
    "    fig.add_trace(go.Scatter(\n",
    "        x=blue_line['percentile'],\n",
    "        y=blue_line['percentage_revenue'],\n",
    "        mode='lines',\n",
    "        line=dict(color='gray', width=2),\n",
    "        name='Outros produtos'\n",
    "    ))\n",
    "    hotmart_line = df_percentile[df_percentile['percentile'] >= threshold]\n",
    "    fig.add_trace(go.Scatter(\n",
    "        x=hotmart_line['percentile'],\n",
    "        y=hotmart_line['percentage_revenue'],\n",
    "        mode='lines',\n",
    "        line=dict(color='#ff4e1a', width=2),\n",
    "        name='Maiores produtos'\n",
    "    ))\n",
    "\n",
    "    fig.update_layout(\n",
    "        xaxis_title='Percentil produtos por faturamento',\n",
    "        yaxis_title='Percentual do faturamento',\n",
    "        plot_bgcolor='rgba(0,0,0,0)',  # Remove background color\n",
    "    )\n",
    "    fig.update_xaxes(showgrid=False)\n",
    "    fig.update_yaxes(showgrid=False,\n",
    "                     )\n",
    "    # Show the figure\n",
    "    fig.show()\n",
    "\n",
    "purchase = 'purchase_transformed'\n",
    "threshold = 90\n",
    "\n",
    "plot_cumulative_revenue(df, purchase, threshold)\n"
   ]
  },
  {
   "cell_type": "code",
   "execution_count": 18,
   "metadata": {},
   "outputs": [
    {
     "data": {
      "text/plain": [
       "Index(['purchase_id', 'product_id', 'affiliate_id', 'producer_id', 'buyer_id',\n",
       "       'purchase_date', 'product_creation_date', 'product_category',\n",
       "       'product_niche', 'purchase_value', 'affiliate_commission_percentual',\n",
       "       'purchase_device', 'purchase_origin', 'is_origin_page_social_network',\n",
       "       'Venda', 'purchase_transformed'],\n",
       "      dtype='object')"
      ]
     },
     "execution_count": 18,
     "metadata": {},
     "output_type": "execute_result"
    }
   ],
   "source": [
    "df.columns"
   ]
  },
  {
   "cell_type": "code",
   "execution_count": 23,
   "metadata": {},
   "outputs": [
    {
     "data": {
      "application/vnd.plotly.v1+json": {
       "config": {
        "plotlyServerURL": "https://plot.ly"
       },
       "data": [
        {
         "marker": {
          "color": "#ff4e1a"
         },
         "name": "Maiores Produtos",
         "type": "bar",
         "width": 0.6,
         "x": [
          "Maiores Produtos"
         ],
         "y": [
          87.80880915754223
         ]
        },
        {
         "marker": {
          "color": "lightgray"
         },
         "name": "Outros Produtos",
         "type": "bar",
         "width": 0.6,
         "x": [
          "Outros Produtos"
         ],
         "y": [
          12.191190842457777
         ]
        }
       ],
       "layout": {
        "plot_bgcolor": "rgba(0,0,0,0)",
        "showlegend": false,
        "template": {
         "data": {
          "bar": [
           {
            "error_x": {
             "color": "#2a3f5f"
            },
            "error_y": {
             "color": "#2a3f5f"
            },
            "marker": {
             "line": {
              "color": "#E5ECF6",
              "width": 0.5
             },
             "pattern": {
              "fillmode": "overlay",
              "size": 10,
              "solidity": 0.2
             }
            },
            "type": "bar"
           }
          ],
          "barpolar": [
           {
            "marker": {
             "line": {
              "color": "#E5ECF6",
              "width": 0.5
             },
             "pattern": {
              "fillmode": "overlay",
              "size": 10,
              "solidity": 0.2
             }
            },
            "type": "barpolar"
           }
          ],
          "carpet": [
           {
            "aaxis": {
             "endlinecolor": "#2a3f5f",
             "gridcolor": "white",
             "linecolor": "white",
             "minorgridcolor": "white",
             "startlinecolor": "#2a3f5f"
            },
            "baxis": {
             "endlinecolor": "#2a3f5f",
             "gridcolor": "white",
             "linecolor": "white",
             "minorgridcolor": "white",
             "startlinecolor": "#2a3f5f"
            },
            "type": "carpet"
           }
          ],
          "choropleth": [
           {
            "colorbar": {
             "outlinewidth": 0,
             "ticks": ""
            },
            "type": "choropleth"
           }
          ],
          "contour": [
           {
            "colorbar": {
             "outlinewidth": 0,
             "ticks": ""
            },
            "colorscale": [
             [
              0,
              "#0d0887"
             ],
             [
              0.1111111111111111,
              "#46039f"
             ],
             [
              0.2222222222222222,
              "#7201a8"
             ],
             [
              0.3333333333333333,
              "#9c179e"
             ],
             [
              0.4444444444444444,
              "#bd3786"
             ],
             [
              0.5555555555555556,
              "#d8576b"
             ],
             [
              0.6666666666666666,
              "#ed7953"
             ],
             [
              0.7777777777777778,
              "#fb9f3a"
             ],
             [
              0.8888888888888888,
              "#fdca26"
             ],
             [
              1,
              "#f0f921"
             ]
            ],
            "type": "contour"
           }
          ],
          "contourcarpet": [
           {
            "colorbar": {
             "outlinewidth": 0,
             "ticks": ""
            },
            "type": "contourcarpet"
           }
          ],
          "heatmap": [
           {
            "colorbar": {
             "outlinewidth": 0,
             "ticks": ""
            },
            "colorscale": [
             [
              0,
              "#0d0887"
             ],
             [
              0.1111111111111111,
              "#46039f"
             ],
             [
              0.2222222222222222,
              "#7201a8"
             ],
             [
              0.3333333333333333,
              "#9c179e"
             ],
             [
              0.4444444444444444,
              "#bd3786"
             ],
             [
              0.5555555555555556,
              "#d8576b"
             ],
             [
              0.6666666666666666,
              "#ed7953"
             ],
             [
              0.7777777777777778,
              "#fb9f3a"
             ],
             [
              0.8888888888888888,
              "#fdca26"
             ],
             [
              1,
              "#f0f921"
             ]
            ],
            "type": "heatmap"
           }
          ],
          "heatmapgl": [
           {
            "colorbar": {
             "outlinewidth": 0,
             "ticks": ""
            },
            "colorscale": [
             [
              0,
              "#0d0887"
             ],
             [
              0.1111111111111111,
              "#46039f"
             ],
             [
              0.2222222222222222,
              "#7201a8"
             ],
             [
              0.3333333333333333,
              "#9c179e"
             ],
             [
              0.4444444444444444,
              "#bd3786"
             ],
             [
              0.5555555555555556,
              "#d8576b"
             ],
             [
              0.6666666666666666,
              "#ed7953"
             ],
             [
              0.7777777777777778,
              "#fb9f3a"
             ],
             [
              0.8888888888888888,
              "#fdca26"
             ],
             [
              1,
              "#f0f921"
             ]
            ],
            "type": "heatmapgl"
           }
          ],
          "histogram": [
           {
            "marker": {
             "pattern": {
              "fillmode": "overlay",
              "size": 10,
              "solidity": 0.2
             }
            },
            "type": "histogram"
           }
          ],
          "histogram2d": [
           {
            "colorbar": {
             "outlinewidth": 0,
             "ticks": ""
            },
            "colorscale": [
             [
              0,
              "#0d0887"
             ],
             [
              0.1111111111111111,
              "#46039f"
             ],
             [
              0.2222222222222222,
              "#7201a8"
             ],
             [
              0.3333333333333333,
              "#9c179e"
             ],
             [
              0.4444444444444444,
              "#bd3786"
             ],
             [
              0.5555555555555556,
              "#d8576b"
             ],
             [
              0.6666666666666666,
              "#ed7953"
             ],
             [
              0.7777777777777778,
              "#fb9f3a"
             ],
             [
              0.8888888888888888,
              "#fdca26"
             ],
             [
              1,
              "#f0f921"
             ]
            ],
            "type": "histogram2d"
           }
          ],
          "histogram2dcontour": [
           {
            "colorbar": {
             "outlinewidth": 0,
             "ticks": ""
            },
            "colorscale": [
             [
              0,
              "#0d0887"
             ],
             [
              0.1111111111111111,
              "#46039f"
             ],
             [
              0.2222222222222222,
              "#7201a8"
             ],
             [
              0.3333333333333333,
              "#9c179e"
             ],
             [
              0.4444444444444444,
              "#bd3786"
             ],
             [
              0.5555555555555556,
              "#d8576b"
             ],
             [
              0.6666666666666666,
              "#ed7953"
             ],
             [
              0.7777777777777778,
              "#fb9f3a"
             ],
             [
              0.8888888888888888,
              "#fdca26"
             ],
             [
              1,
              "#f0f921"
             ]
            ],
            "type": "histogram2dcontour"
           }
          ],
          "mesh3d": [
           {
            "colorbar": {
             "outlinewidth": 0,
             "ticks": ""
            },
            "type": "mesh3d"
           }
          ],
          "parcoords": [
           {
            "line": {
             "colorbar": {
              "outlinewidth": 0,
              "ticks": ""
             }
            },
            "type": "parcoords"
           }
          ],
          "pie": [
           {
            "automargin": true,
            "type": "pie"
           }
          ],
          "scatter": [
           {
            "fillpattern": {
             "fillmode": "overlay",
             "size": 10,
             "solidity": 0.2
            },
            "type": "scatter"
           }
          ],
          "scatter3d": [
           {
            "line": {
             "colorbar": {
              "outlinewidth": 0,
              "ticks": ""
             }
            },
            "marker": {
             "colorbar": {
              "outlinewidth": 0,
              "ticks": ""
             }
            },
            "type": "scatter3d"
           }
          ],
          "scattercarpet": [
           {
            "marker": {
             "colorbar": {
              "outlinewidth": 0,
              "ticks": ""
             }
            },
            "type": "scattercarpet"
           }
          ],
          "scattergeo": [
           {
            "marker": {
             "colorbar": {
              "outlinewidth": 0,
              "ticks": ""
             }
            },
            "type": "scattergeo"
           }
          ],
          "scattergl": [
           {
            "marker": {
             "colorbar": {
              "outlinewidth": 0,
              "ticks": ""
             }
            },
            "type": "scattergl"
           }
          ],
          "scattermapbox": [
           {
            "marker": {
             "colorbar": {
              "outlinewidth": 0,
              "ticks": ""
             }
            },
            "type": "scattermapbox"
           }
          ],
          "scatterpolar": [
           {
            "marker": {
             "colorbar": {
              "outlinewidth": 0,
              "ticks": ""
             }
            },
            "type": "scatterpolar"
           }
          ],
          "scatterpolargl": [
           {
            "marker": {
             "colorbar": {
              "outlinewidth": 0,
              "ticks": ""
             }
            },
            "type": "scatterpolargl"
           }
          ],
          "scatterternary": [
           {
            "marker": {
             "colorbar": {
              "outlinewidth": 0,
              "ticks": ""
             }
            },
            "type": "scatterternary"
           }
          ],
          "surface": [
           {
            "colorbar": {
             "outlinewidth": 0,
             "ticks": ""
            },
            "colorscale": [
             [
              0,
              "#0d0887"
             ],
             [
              0.1111111111111111,
              "#46039f"
             ],
             [
              0.2222222222222222,
              "#7201a8"
             ],
             [
              0.3333333333333333,
              "#9c179e"
             ],
             [
              0.4444444444444444,
              "#bd3786"
             ],
             [
              0.5555555555555556,
              "#d8576b"
             ],
             [
              0.6666666666666666,
              "#ed7953"
             ],
             [
              0.7777777777777778,
              "#fb9f3a"
             ],
             [
              0.8888888888888888,
              "#fdca26"
             ],
             [
              1,
              "#f0f921"
             ]
            ],
            "type": "surface"
           }
          ],
          "table": [
           {
            "cells": {
             "fill": {
              "color": "#EBF0F8"
             },
             "line": {
              "color": "white"
             }
            },
            "header": {
             "fill": {
              "color": "#C8D4E3"
             },
             "line": {
              "color": "white"
             }
            },
            "type": "table"
           }
          ]
         },
         "layout": {
          "annotationdefaults": {
           "arrowcolor": "#2a3f5f",
           "arrowhead": 0,
           "arrowwidth": 1
          },
          "autotypenumbers": "strict",
          "coloraxis": {
           "colorbar": {
            "outlinewidth": 0,
            "ticks": ""
           }
          },
          "colorscale": {
           "diverging": [
            [
             0,
             "#8e0152"
            ],
            [
             0.1,
             "#c51b7d"
            ],
            [
             0.2,
             "#de77ae"
            ],
            [
             0.3,
             "#f1b6da"
            ],
            [
             0.4,
             "#fde0ef"
            ],
            [
             0.5,
             "#f7f7f7"
            ],
            [
             0.6,
             "#e6f5d0"
            ],
            [
             0.7,
             "#b8e186"
            ],
            [
             0.8,
             "#7fbc41"
            ],
            [
             0.9,
             "#4d9221"
            ],
            [
             1,
             "#276419"
            ]
           ],
           "sequential": [
            [
             0,
             "#0d0887"
            ],
            [
             0.1111111111111111,
             "#46039f"
            ],
            [
             0.2222222222222222,
             "#7201a8"
            ],
            [
             0.3333333333333333,
             "#9c179e"
            ],
            [
             0.4444444444444444,
             "#bd3786"
            ],
            [
             0.5555555555555556,
             "#d8576b"
            ],
            [
             0.6666666666666666,
             "#ed7953"
            ],
            [
             0.7777777777777778,
             "#fb9f3a"
            ],
            [
             0.8888888888888888,
             "#fdca26"
            ],
            [
             1,
             "#f0f921"
            ]
           ],
           "sequentialminus": [
            [
             0,
             "#0d0887"
            ],
            [
             0.1111111111111111,
             "#46039f"
            ],
            [
             0.2222222222222222,
             "#7201a8"
            ],
            [
             0.3333333333333333,
             "#9c179e"
            ],
            [
             0.4444444444444444,
             "#bd3786"
            ],
            [
             0.5555555555555556,
             "#d8576b"
            ],
            [
             0.6666666666666666,
             "#ed7953"
            ],
            [
             0.7777777777777778,
             "#fb9f3a"
            ],
            [
             0.8888888888888888,
             "#fdca26"
            ],
            [
             1,
             "#f0f921"
            ]
           ]
          },
          "colorway": [
           "#636efa",
           "#EF553B",
           "#00cc96",
           "#ab63fa",
           "#FFA15A",
           "#19d3f3",
           "#FF6692",
           "#B6E880",
           "#FF97FF",
           "#FECB52"
          ],
          "font": {
           "color": "#2a3f5f"
          },
          "geo": {
           "bgcolor": "white",
           "lakecolor": "white",
           "landcolor": "#E5ECF6",
           "showlakes": true,
           "showland": true,
           "subunitcolor": "white"
          },
          "hoverlabel": {
           "align": "left"
          },
          "hovermode": "closest",
          "mapbox": {
           "style": "light"
          },
          "paper_bgcolor": "white",
          "plot_bgcolor": "#E5ECF6",
          "polar": {
           "angularaxis": {
            "gridcolor": "white",
            "linecolor": "white",
            "ticks": ""
           },
           "bgcolor": "#E5ECF6",
           "radialaxis": {
            "gridcolor": "white",
            "linecolor": "white",
            "ticks": ""
           }
          },
          "scene": {
           "xaxis": {
            "backgroundcolor": "#E5ECF6",
            "gridcolor": "white",
            "gridwidth": 2,
            "linecolor": "white",
            "showbackground": true,
            "ticks": "",
            "zerolinecolor": "white"
           },
           "yaxis": {
            "backgroundcolor": "#E5ECF6",
            "gridcolor": "white",
            "gridwidth": 2,
            "linecolor": "white",
            "showbackground": true,
            "ticks": "",
            "zerolinecolor": "white"
           },
           "zaxis": {
            "backgroundcolor": "#E5ECF6",
            "gridcolor": "white",
            "gridwidth": 2,
            "linecolor": "white",
            "showbackground": true,
            "ticks": "",
            "zerolinecolor": "white"
           }
          },
          "shapedefaults": {
           "line": {
            "color": "#2a3f5f"
           }
          },
          "ternary": {
           "aaxis": {
            "gridcolor": "white",
            "linecolor": "white",
            "ticks": ""
           },
           "baxis": {
            "gridcolor": "white",
            "linecolor": "white",
            "ticks": ""
           },
           "bgcolor": "#E5ECF6",
           "caxis": {
            "gridcolor": "white",
            "linecolor": "white",
            "ticks": ""
           }
          },
          "title": {
           "x": 0.05
          },
          "xaxis": {
           "automargin": true,
           "gridcolor": "white",
           "linecolor": "white",
           "ticks": "",
           "title": {
            "standoff": 15
           },
           "zerolinecolor": "white",
           "zerolinewidth": 2
          },
          "yaxis": {
           "automargin": true,
           "gridcolor": "white",
           "linecolor": "white",
           "ticks": "",
           "title": {
            "standoff": 15
           },
           "zerolinecolor": "white",
           "zerolinewidth": 2
          }
         }
        },
        "xaxis": {
         "showgrid": false,
         "tickfont": {
          "size": 18
         }
        },
        "yaxis": {
         "range": [
          0,
          100
         ],
         "showgrid": false,
         "tickfont": {
          "size": 18
         }
        }
       }
      }
     },
     "metadata": {},
     "output_type": "display_data"
    }
   ],
   "source": [
    "def plot_revenue_percentile(df, percentile_threshold):\n",
    "    # Calculate the cumulative revenue and percentile\n",
    "    purchase = 'purchase_transformed'\n",
    "    product_revenue = df.groupby('product_id')[purchase].sum().sort_values()\n",
    "    product_revenue = product_revenue.reset_index()\n",
    "    product_revenue['percentile'] = pd.qcut(product_revenue[purchase], q=100, labels=False, duplicates='drop')\n",
    "    \n",
    "    # Determine high-sellers and low-sellers based on percentile threshold\n",
    "    high_sellers = product_revenue[product_revenue['percentile'] >= percentile_threshold]\n",
    "    low_sellers = product_revenue[product_revenue['percentile'] < percentile_threshold]\n",
    "    \n",
    "    # Calculate percentage contribution of each group\n",
    "    total_revenue = product_revenue[purchase].sum()\n",
    "    high_sellers_percentage = (high_sellers[purchase].sum() / total_revenue)*100\n",
    "    low_sellers_percentage = (low_sellers[purchase].sum() / total_revenue)*100\n",
    "    bar_width = 0.6\n",
    "    # Create the bar plots for high-sellers and low-sellers\n",
    "    fig = go.Figure()\n",
    "    fig.add_trace(go.Bar(\n",
    "        x=['Maiores Produtos'],\n",
    "        y=[high_sellers_percentage],\n",
    "        name='Maiores Produtos',\n",
    "        marker=dict(color='#ff4e1a'),\n",
    "        width=bar_width,  # Reduce bar width\n",
    "    ))\n",
    "    fig.add_trace(go.Bar(\n",
    "        x=['Outros Produtos'],\n",
    "        y=[low_sellers_percentage],\n",
    "        name='Outros Produtos',\n",
    "        marker=dict(color='lightgray'),\n",
    "        width=bar_width,  # Reduce bar width\n",
    "    ))\n",
    "    \n",
    "    # Set the layout\n",
    "    fig.update_layout(\n",
    "        showlegend=False,  # Remove legend\n",
    "        plot_bgcolor='rgba(0,0,0,0)',  # Remove background color\n",
    "        xaxis=dict(\n",
    "            showgrid=False,  # Remove x-axis gridlines\n",
    "            tickfont=dict(size=18),  # Increase x-axis tick font size\n",
    "        ),\n",
    "        yaxis=dict(\n",
    "            range=[0, 100], # Set y-axis range from 0 to 1\n",
    "            showgrid=False,  # Remove y-axis gridlines\n",
    "            tickfont=dict(size=18),  # Increase y-axis tick font size\n",
    "        ),\n",
    "    )\n",
    "    \n",
    "    # Show the figure\n",
    "    fig.show()\n",
    "    \n",
    "# Assuming you have a DataFrame called 'df' with 'product_id' and 'purchase_transformed' columns\n",
    "plot_revenue_percentile(df, percentile_threshold=90)"
   ]
  },
  {
   "cell_type": "code",
   "execution_count": 5,
   "metadata": {},
   "outputs": [],
   "source": [
    "hotmart_maiores_produtores = df.merge(sum_of_values, how='inner', left_on='producer_id', right_on='producer_id')"
   ]
  },
  {
   "cell_type": "code",
   "execution_count": 84,
   "metadata": {},
   "outputs": [
    {
     "data": {
      "text/plain": [
       "0.9437371612326654"
      ]
     },
     "execution_count": 84,
     "metadata": {},
     "output_type": "execute_result"
    }
   ],
   "source": [
    "import plotly.express as px\n",
    "top_20_value = sum_of_values[sum_of_values['valor_transformed'] > np.percentile(sum_of_values['valor_transformed'], 80)]['producer_id']\n",
    "hotmart_maiores_produtores[hotmart_maiores_produtores['producer_id'].isin(top_20_value)]['purchase_transformed'].sum()/hotmart_maiores_produtores['purchase_transformed'].sum()\n",
    "\n",
    "top_20_value = sum_of_values[sum_of_values['count'] > np.percentile(sum_of_values['count'], 80)]['producer_id']\n",
    "hotmart_maiores_produtores[hotmart_maiores_produtores['producer_id'].isin(top_20_value)]['purchase_transformed'].sum()/hotmart_maiores_produtores['purchase_transformed'].sum()\n",
    "\n"
   ]
  },
  {
   "attachments": {},
   "cell_type": "markdown",
   "metadata": {},
   "source": [
    "# Quais características impactam no sucesso de um produto (Quem são esses maiores produtores)\n",
    "\n",
    "Adicionais a serem trazidos na análise\n",
    "\n",
    "1- Verificar sazonalidade de tipos de produto\n",
    "\n",
    "1.1 - Dias da semana com maior volume de compras\n",
    "\n",
    "1.2 - Horários com maior volume de compras\n",
    "\n",
    "2- Fazer a feature importance por tipo de produto\n",
    "\n",
    "3- Fazer modelo que prediz quantas compras vão ser realizadas a um dado produto\n",
    "\n",
    "4- Fazer página do Dash com um conjunto de opções e a partir disso medir/metrificar número de compras de produto ou total acumulado por produto\n",
    "\n",
    "5- Fazer primeiro a previsão inicial para depois seguir para Feature Engineering\n",
    "\n",
    "6- Fazer análise mais aprofundada de purchase_device, purchase_origin, is_origin_page_social_network"
   ]
  },
  {
   "cell_type": "code",
   "execution_count": 52,
   "metadata": {},
   "outputs": [],
   "source": [
    "from sklearn.base import BaseEstimator, TransformerMixin\n",
    "class ColumnOtherCategory(BaseEstimator, TransformerMixin):\n",
    "    def __init__(self, column, threshold):\n",
    "        self.column = column\n",
    "        self.threshold = threshold\n",
    "        self.high_frequency_values = None\n",
    "    \n",
    "    def fit(self, X, y=None):\n",
    "        value_counts = X[self.column].value_counts()\n",
    "        self.high_frequency_values = value_counts[value_counts > self.threshold].index\n",
    "        return self\n",
    "    \n",
    "    def transform(self, X):\n",
    "        X_copy = X.copy()\n",
    "        X_copy[self.column] = X_copy[self.column].apply(lambda x: x if x in self.high_frequency_values else 'Other')\n",
    "        return X_copy"
   ]
  },
  {
   "cell_type": "code",
   "execution_count": 12,
   "metadata": {},
   "outputs": [],
   "source": [
    "X, y = df.drop(columns=['purchase_transformed']), df['purchase_transformed']"
   ]
  },
  {
   "cell_type": "code",
   "execution_count": 19,
   "metadata": {},
   "outputs": [
    {
     "data": {
      "text/html": [
       "<div>\n",
       "<style scoped>\n",
       "    .dataframe tbody tr th:only-of-type {\n",
       "        vertical-align: middle;\n",
       "    }\n",
       "\n",
       "    .dataframe tbody tr th {\n",
       "        vertical-align: top;\n",
       "    }\n",
       "\n",
       "    .dataframe thead th {\n",
       "        text-align: right;\n",
       "    }\n",
       "</style>\n",
       "<table border=\"1\" class=\"dataframe\">\n",
       "  <thead>\n",
       "    <tr style=\"text-align: right;\">\n",
       "      <th></th>\n",
       "      <th>n_affiliate</th>\n",
       "    </tr>\n",
       "    <tr>\n",
       "      <th>product_id</th>\n",
       "      <th></th>\n",
       "    </tr>\n",
       "  </thead>\n",
       "  <tbody>\n",
       "    <tr>\n",
       "      <th>189801</th>\n",
       "      <td>11</td>\n",
       "    </tr>\n",
       "    <tr>\n",
       "      <th>118670</th>\n",
       "      <td>11</td>\n",
       "    </tr>\n",
       "    <tr>\n",
       "      <th>116882</th>\n",
       "      <td>11</td>\n",
       "    </tr>\n",
       "    <tr>\n",
       "      <th>111462</th>\n",
       "      <td>11</td>\n",
       "    </tr>\n",
       "    <tr>\n",
       "      <th>180016</th>\n",
       "      <td>11</td>\n",
       "    </tr>\n",
       "    <tr>\n",
       "      <th>...</th>\n",
       "      <td>...</td>\n",
       "    </tr>\n",
       "    <tr>\n",
       "      <th>180874</th>\n",
       "      <td>550</td>\n",
       "    </tr>\n",
       "    <tr>\n",
       "      <th>143983</th>\n",
       "      <td>602</td>\n",
       "    </tr>\n",
       "    <tr>\n",
       "      <th>18399</th>\n",
       "      <td>741</td>\n",
       "    </tr>\n",
       "    <tr>\n",
       "      <th>42903</th>\n",
       "      <td>760</td>\n",
       "    </tr>\n",
       "    <tr>\n",
       "      <th>83377</th>\n",
       "      <td>1297</td>\n",
       "    </tr>\n",
       "  </tbody>\n",
       "</table>\n",
       "<p>759 rows × 1 columns</p>\n",
       "</div>"
      ],
      "text/plain": [
       "            n_affiliate\n",
       "product_id             \n",
       "189801               11\n",
       "118670               11\n",
       "116882               11\n",
       "111462               11\n",
       "180016               11\n",
       "...                 ...\n",
       "180874              550\n",
       "143983              602\n",
       "18399               741\n",
       "42903               760\n",
       "83377              1297\n",
       "\n",
       "[759 rows x 1 columns]"
      ]
     },
     "execution_count": 19,
     "metadata": {},
     "output_type": "execute_result"
    }
   ],
   "source": [
    "n_affiliates = df[['product_id', 'affiliate_id']].groupby('product_id').agg(n_affiliate = ('affiliate_id', 'nunique'))\n",
    "n_affiliates[n_affiliates['n_affiliate'] > 10].sort_values(by='n_affiliate')"
   ]
  },
  {
   "cell_type": "code",
   "execution_count": 4,
   "metadata": {},
   "outputs": [],
   "source": [
    "df = df[['product_id', 'affiliate_id', 'producer_id', 'buyer_id', 'purchase_date', \n",
    "    'product_creation_date', 'product_category', 'product_niche', 'purchase_value', \n",
    "    'affiliate_commission_percentual', 'purchase_device', 'purchase_origin', \n",
    "    'is_origin_page_social_network', 'purchase_transformed']]"
   ]
  },
  {
   "cell_type": "code",
   "execution_count": 51,
   "metadata": {},
   "outputs": [
    {
     "data": {
      "text/html": [
       "<div>\n",
       "<style scoped>\n",
       "    .dataframe tbody tr th:only-of-type {\n",
       "        vertical-align: middle;\n",
       "    }\n",
       "\n",
       "    .dataframe tbody tr th {\n",
       "        vertical-align: top;\n",
       "    }\n",
       "\n",
       "    .dataframe thead th {\n",
       "        text-align: right;\n",
       "    }\n",
       "</style>\n",
       "<table border=\"1\" class=\"dataframe\">\n",
       "  <thead>\n",
       "    <tr style=\"text-align: right;\">\n",
       "      <th></th>\n",
       "      <th>mean_price</th>\n",
       "      <th>std_price</th>\n",
       "      <th>n_prices</th>\n",
       "    </tr>\n",
       "    <tr>\n",
       "      <th>product_id</th>\n",
       "      <th></th>\n",
       "      <th></th>\n",
       "      <th></th>\n",
       "    </tr>\n",
       "  </thead>\n",
       "  <tbody>\n",
       "    <tr>\n",
       "      <th>748</th>\n",
       "      <td>0.001538</td>\n",
       "      <td>0.000089</td>\n",
       "      <td>46</td>\n",
       "    </tr>\n",
       "    <tr>\n",
       "      <th>2195</th>\n",
       "      <td>0.000918</td>\n",
       "      <td>0.000051</td>\n",
       "      <td>11</td>\n",
       "    </tr>\n",
       "    <tr>\n",
       "      <th>2350</th>\n",
       "      <td>0.003004</td>\n",
       "      <td>0.000181</td>\n",
       "      <td>32</td>\n",
       "    </tr>\n",
       "    <tr>\n",
       "      <th>2869</th>\n",
       "      <td>0.001543</td>\n",
       "      <td>0.000145</td>\n",
       "      <td>16</td>\n",
       "    </tr>\n",
       "    <tr>\n",
       "      <th>4143</th>\n",
       "      <td>0.001480</td>\n",
       "      <td>0.000176</td>\n",
       "      <td>11</td>\n",
       "    </tr>\n",
       "    <tr>\n",
       "      <th>...</th>\n",
       "      <td>...</td>\n",
       "      <td>...</td>\n",
       "      <td>...</td>\n",
       "    </tr>\n",
       "    <tr>\n",
       "      <th>239080</th>\n",
       "      <td>0.005321</td>\n",
       "      <td>0.001840</td>\n",
       "      <td>12</td>\n",
       "    </tr>\n",
       "    <tr>\n",
       "      <th>239141</th>\n",
       "      <td>0.006054</td>\n",
       "      <td>0.001140</td>\n",
       "      <td>19</td>\n",
       "    </tr>\n",
       "    <tr>\n",
       "      <th>239279</th>\n",
       "      <td>0.002331</td>\n",
       "      <td>0.000777</td>\n",
       "      <td>11</td>\n",
       "    </tr>\n",
       "    <tr>\n",
       "      <th>239422</th>\n",
       "      <td>0.004742</td>\n",
       "      <td>0.000956</td>\n",
       "      <td>11</td>\n",
       "    </tr>\n",
       "    <tr>\n",
       "      <th>239502</th>\n",
       "      <td>0.001622</td>\n",
       "      <td>0.000922</td>\n",
       "      <td>24</td>\n",
       "    </tr>\n",
       "  </tbody>\n",
       "</table>\n",
       "<p>2965 rows × 3 columns</p>\n",
       "</div>"
      ],
      "text/plain": [
       "            mean_price  std_price  n_prices\n",
       "product_id                                 \n",
       "748           0.001538   0.000089        46\n",
       "2195          0.000918   0.000051        11\n",
       "2350          0.003004   0.000181        32\n",
       "2869          0.001543   0.000145        16\n",
       "4143          0.001480   0.000176        11\n",
       "...                ...        ...       ...\n",
       "239080        0.005321   0.001840        12\n",
       "239141        0.006054   0.001140        19\n",
       "239279        0.002331   0.000777        11\n",
       "239422        0.004742   0.000956        11\n",
       "239502        0.001622   0.000922        24\n",
       "\n",
       "[2965 rows x 3 columns]"
      ]
     },
     "execution_count": 51,
     "metadata": {},
     "output_type": "execute_result"
    }
   ],
   "source": [
    "prod_price = df.groupby('product_id').agg(mean_price = ('purchase_transformed', 'mean'),\n",
    "                            std_price = ('purchase_transformed', 'std'),\n",
    "                            n_prices = ('purchase_transformed', 'nunique'))\n",
    "prod_price[prod_price['n_prices'] > 10]"
   ]
  },
  {
   "cell_type": "code",
   "execution_count": null,
   "metadata": {},
   "outputs": [],
   "source": [
    "columns = ['product_id', 'affiliate_id', 'producer_id', 'product_category', 'product_niche',\n",
    "           'purchase_device', 'purchase_origin', 'is_origin_page_social_network']\n",
    "for column in columns:\n",
    "    df[column] = df[column].astype(str)\n",
    "\n",
    "df.groupby(by=['product_id', 'affiliate_id', 'producer_id', 'product_category', 'product_niche',\n",
    "               'purchase_device', 'purchase_origin', 'is_origin_page_social_network']).agg(\n",
    "                   num_of_sales = ('buyer_id', 'count'),\n",
    "                   num_of_buyers = ('buyer_id', 'nunique'),\n",
    "                   mean_price = ('purchase_transformed', 'mean'),\n",
    "                   total_purchase = ('purchase_transformed', 'sum'))"
   ]
  },
  {
   "attachments": {},
   "cell_type": "markdown",
   "metadata": {},
   "source": [
    "## Impacto do Affiliate_id no total de vendas\n",
    "1- Existem mais affilates do que produtores, alguns produtores também são afiliates de outros produtores"
   ]
  },
  {
   "cell_type": "code",
   "execution_count": 5,
   "metadata": {},
   "outputs": [],
   "source": [
    "df['have_affiliate'] = True\n",
    "df.loc[df['affiliate_id'] == df['producer_id'], 'have_affiliate'] = False\n",
    "\n",
    "def feature_eng(df, filter_with_few_products = False):\n",
    "    df = affiliate_feature_eng(df, filter_with_few_products)\n",
    "    df = producer_feature_eng(df, filter_with_few_products)\n",
    "    df = product_creation_date_eng(df)\n",
    "    df = repurchasable_eng(df)\n",
    "    return df\n",
    "\n",
    "def affiliate_feature_eng(df, filter_with_few_products = False):\n",
    "    affiliate_n_prod = df.groupby(['affiliate_id', 'product_id']).agg(\n",
    "                                                    total_vendas=('purchase_transformed', 'sum'),\n",
    "                                                    count_vendas=('purchase_transformed', 'count')).reset_index()\n",
    "    affiliate_n_prod = affiliate_n_prod.groupby('affiliate_id').agg(\n",
    "                                                    n_prod_affiliate=('product_id', 'nunique'),\n",
    "                                                    count_vendas_affiliate=('count_vendas', 'sum'),\n",
    "                                                    total_vendas_affiliate = ('total_vendas', 'sum'),\n",
    "                                                    media_vendas_produtos_affiliate =('total_vendas', 'mean'))\n",
    "    if filter_with_few_products:\n",
    "        affiliate_n_prod = affiliate_n_prod[(affiliate_n_prod['n_prod_affiliate'] > 5)]\n",
    "    df = df.merge(affiliate_n_prod, how = 'left', on=['affiliate_id'])\n",
    "    return df.drop(columns=['affiliate_id'])\n",
    "\n",
    "def producer_feature_eng(df, filter_with_few_products = False):\n",
    "    producer_feat = df.groupby(['producer_id', 'product_id']).agg(\n",
    "                                                    total_vendas=('purchase_transformed', 'sum'),\n",
    "                                                    count_vendas=('purchase_transformed', 'count')).reset_index()\n",
    "    producer_feat = producer_feat.groupby('producer_id').agg(\n",
    "                                                    n_prod_producer=('product_id', 'nunique'),\n",
    "                                                    count_vendas_producer=('count_vendas', 'sum'),\n",
    "                                                    total_vendas_producer = ('total_vendas', 'sum'),\n",
    "                                                    media_vendas_produtos_producer =('total_vendas', 'mean'))\n",
    "    if filter_with_few_products:\n",
    "        producer_feat = producer_feat[(producer_feat['n_prod_producer'] > 5)]\n",
    "    df = df.merge(producer_feat, how = 'left', on=['producer_id'])\n",
    "    return df.drop(columns=['producer_id'])\n",
    "\n",
    "def product_creation_date_eng(df):\n",
    "    from datetime import datetime\n",
    "    last_purchase = datetime(2016, 6, 30)\n",
    "    df['product_creation_date'] = pd.to_datetime(df['product_creation_date'])\n",
    "    df['years_since_creation'] = last_purchase.year - df['product_creation_date'].dt.year\n",
    "    df['months_since_creation'] = df['years_since_creation']*12 + (last_purchase.month - df['product_creation_date'].dt.month)\n",
    "    return df.drop(columns=['product_creation_date'])\n",
    "\n",
    "def repurchasable_eng(df):\n",
    "\n",
    "    buyer_d = df.groupby(['product_id', 'buyer_id']).agg(count_purchases = ('buyer_id', 'count')).reset_index()\n",
    "    buyer_d = buyer_d.groupby(['product_id',]).agg(count_purchases = ('count_purchases', 'sum'),\n",
    "                                                count_buyers = ('buyer_id','nunique'))\n",
    "    buyer_d = buyer_d[buyer_d['count_buyers']*1.1 < buyer_d['count_purchases']].reset_index()\n",
    "    buyer_d['repurchasable'] = True\n",
    "    df = df.merge(buyer_d[['product_id', 'repurchasable']], how='left', on=['product_id'])\n",
    "    df['repurchasable'] = df['repurchasable'].fillna(False)\n",
    "    return df.drop(columns=['buyer_id'])\n",
    "\n",
    "#df_test = affiliate_feature_eng(df)\n",
    "#df_test = producer_feature_eng(df)\n",
    "#df_test = product_creation_date_eng(df)"
   ]
  },
  {
   "cell_type": "code",
   "execution_count": 133,
   "metadata": {},
   "outputs": [
    {
     "data": {
      "text/plain": [
       "0                  Video\n",
       "1                Podcast\n",
       "2                Podcast\n",
       "3                Podcast\n",
       "4                Podcast\n",
       "               ...      \n",
       "1599823    Phisical book\n",
       "1599824    Phisical book\n",
       "1599825    Phisical book\n",
       "1599826    Phisical book\n",
       "1599827    Phisical book\n",
       "Name: product_category, Length: 1599828, dtype: object"
      ]
     },
     "execution_count": 133,
     "metadata": {},
     "output_type": "execute_result"
    }
   ],
   "source": [
    "['affiliate_commission_percentual', 'purchase_device', 'purchase_origin', \n",
    "    'is_origin_page_social_network', 'purchase_transformed']\n",
    "\n",
    "def product_category_eng(df, column):\n",
    "    #product_category, product_niche\n",
    "    features = df.groupby(['product_id', column]).agg(\n",
    "        total_sell = ('purchased_transformed', 'sum'),\n",
    "        volume_sell = ('purchased_transformed', 'count'),\n",
    "        num_buyers = ('buyer_id', 'nunique'),\n",
    "    )\n",
    "\n",
    "    features = features.groupby(column).agg(\n",
    "        total_prod = ('product_id', 'count'),\n",
    "        total_sell = ('total_sell', 'sum'),\n",
    "        mean_sell = ('total_sell', 'mean'),\n",
    "        std_sell = ('total_sell', 'std'),\n",
    "        total_volume = ('volume_sell', 'sum'),\n",
    "        mean_volume = ('volume_sell', 'mean'),\n",
    "        std_volume = ('volume_sell', 'std'),\n",
    "        total_buyers = ('num_buyers', 'sum'),\n",
    "        mean_buyers = ('num_buyers', 'mean'),\n",
    "        std_buyers = ('num_buyers', 'std')\n",
    "    ).reset_index()\n",
    "\n",
    "    df = df.merge(df, features, on=[column], how='left')\n",
    "    return df\n",
    "\n",
    "features = df.groupby(['product_id', column]).agg(\n",
    "    total_sell = ('purchased_transformed', 'sum'),\n",
    "    volume_sell = ('purchased_transformed', 'count'),\n",
    "    num_buyers = ('buyer_id', 'nunique'),\n",
    ")\n",
    "\n",
    "features = features.groupby(column).agg(\n",
    "    total_prod = ('product_id', 'count'),\n",
    "    total_sell = ('total_sell', 'sum'),\n",
    "    mean_sell = ('total_sell', 'mean'),\n",
    "    std_sell = ('total_sell', 'std'),\n",
    "    total_volume = ('volume_sell', 'sum'),\n",
    "    mean_volume = ('volume_sell', 'mean'),\n",
    "    std_volume = ('volume_sell', 'std'),\n",
    "    total_buyers = ('num_buyers', 'sum'),\n",
    "    mean_buyers = ('num_buyers', 'mean'),\n",
    "    std_buyers = ('num_buyers', 'std')\n",
    ").reset_index()"
   ]
  },
  {
   "attachments": {},
   "cell_type": "markdown",
   "metadata": {},
   "source": [
    "### Purchase_transformed"
   ]
  },
  {
   "cell_type": "code",
   "execution_count": 7,
   "metadata": {},
   "outputs": [],
   "source": [
    "aggfunc = {\n",
    "    'purchase_transformed': ['sum', 'count'],\n",
    "    'buyer_id': 'nunique'\n",
    "    }\n",
    "pivot_table = df.pivot_table(values=['purchase_transformed', 'buyer_id'], index='product_id', columns='purchase_device', aggfunc=aggfunc)\n",
    "new_columns = []\n",
    "for col in pivot_table.columns:\n",
    "    if (col[0] == 'buyer_id') and (col[1] == 'nunique'):\n",
    "        new_columns.append(f'num_buyers_{col[2]}')\n",
    "    if (col[0] == 'purchase_transformed') and (col[1] == 'count'):\n",
    "        new_columns.append(f'vollume_sell_{col[2]}')\n",
    "    if (col[0] == 'purchase_transformed') and (col[1] == 'sum'):\n",
    "        new_columns.append(f'total_sell_{col[2]}')\n",
    "pivot_table.columns = new_columns\n",
    "pivot_table = pivot_table.reset_index().fillna(0)"
   ]
  },
  {
   "cell_type": "code",
   "execution_count": 11,
   "metadata": {},
   "outputs": [
    {
     "data": {
      "text/html": [
       "<div>\n",
       "<style scoped>\n",
       "    .dataframe tbody tr th:only-of-type {\n",
       "        vertical-align: middle;\n",
       "    }\n",
       "\n",
       "    .dataframe tbody tr th {\n",
       "        vertical-align: top;\n",
       "    }\n",
       "\n",
       "    .dataframe thead th {\n",
       "        text-align: right;\n",
       "    }\n",
       "</style>\n",
       "<table border=\"1\" class=\"dataframe\">\n",
       "  <thead>\n",
       "    <tr style=\"text-align: right;\">\n",
       "      <th></th>\n",
       "      <th>product_id</th>\n",
       "      <th>num_buyers_Cellphone</th>\n",
       "      <th>num_buyers_Desktop</th>\n",
       "      <th>num_buyers_Smart TV</th>\n",
       "      <th>num_buyers_Tablet</th>\n",
       "      <th>num_buyers_eReaders</th>\n",
       "      <th>vollume_sell_Cellphone</th>\n",
       "      <th>vollume_sell_Desktop</th>\n",
       "      <th>vollume_sell_Smart TV</th>\n",
       "      <th>vollume_sell_Tablet</th>\n",
       "      <th>vollume_sell_eReaders</th>\n",
       "      <th>total_sell_Cellphone</th>\n",
       "      <th>total_sell_Desktop</th>\n",
       "      <th>total_sell_Smart TV</th>\n",
       "      <th>total_sell_Tablet</th>\n",
       "      <th>total_sell_eReaders</th>\n",
       "    </tr>\n",
       "  </thead>\n",
       "  <tbody>\n",
       "    <tr>\n",
       "      <th>0</th>\n",
       "      <td>4</td>\n",
       "      <td>0.0</td>\n",
       "      <td>2.0</td>\n",
       "      <td>0.0</td>\n",
       "      <td>0.0</td>\n",
       "      <td>0.0</td>\n",
       "      <td>0.0</td>\n",
       "      <td>2.0</td>\n",
       "      <td>0.0</td>\n",
       "      <td>0.0</td>\n",
       "      <td>0.0</td>\n",
       "      <td>0.0</td>\n",
       "      <td>0.000090</td>\n",
       "      <td>0.0</td>\n",
       "      <td>0.0</td>\n",
       "      <td>0.000000</td>\n",
       "    </tr>\n",
       "    <tr>\n",
       "      <th>1</th>\n",
       "      <td>17</td>\n",
       "      <td>0.0</td>\n",
       "      <td>0.0</td>\n",
       "      <td>0.0</td>\n",
       "      <td>0.0</td>\n",
       "      <td>1.0</td>\n",
       "      <td>0.0</td>\n",
       "      <td>0.0</td>\n",
       "      <td>0.0</td>\n",
       "      <td>0.0</td>\n",
       "      <td>1.0</td>\n",
       "      <td>0.0</td>\n",
       "      <td>0.000000</td>\n",
       "      <td>0.0</td>\n",
       "      <td>0.0</td>\n",
       "      <td>0.000593</td>\n",
       "    </tr>\n",
       "    <tr>\n",
       "      <th>2</th>\n",
       "      <td>27</td>\n",
       "      <td>0.0</td>\n",
       "      <td>2.0</td>\n",
       "      <td>0.0</td>\n",
       "      <td>0.0</td>\n",
       "      <td>0.0</td>\n",
       "      <td>0.0</td>\n",
       "      <td>2.0</td>\n",
       "      <td>0.0</td>\n",
       "      <td>0.0</td>\n",
       "      <td>0.0</td>\n",
       "      <td>0.0</td>\n",
       "      <td>0.000297</td>\n",
       "      <td>0.0</td>\n",
       "      <td>0.0</td>\n",
       "      <td>0.000000</td>\n",
       "    </tr>\n",
       "    <tr>\n",
       "      <th>3</th>\n",
       "      <td>35</td>\n",
       "      <td>0.0</td>\n",
       "      <td>0.0</td>\n",
       "      <td>0.0</td>\n",
       "      <td>0.0</td>\n",
       "      <td>3.0</td>\n",
       "      <td>0.0</td>\n",
       "      <td>0.0</td>\n",
       "      <td>0.0</td>\n",
       "      <td>0.0</td>\n",
       "      <td>3.0</td>\n",
       "      <td>0.0</td>\n",
       "      <td>0.000000</td>\n",
       "      <td>0.0</td>\n",
       "      <td>0.0</td>\n",
       "      <td>0.000887</td>\n",
       "    </tr>\n",
       "    <tr>\n",
       "      <th>4</th>\n",
       "      <td>39</td>\n",
       "      <td>0.0</td>\n",
       "      <td>0.0</td>\n",
       "      <td>0.0</td>\n",
       "      <td>0.0</td>\n",
       "      <td>3.0</td>\n",
       "      <td>0.0</td>\n",
       "      <td>0.0</td>\n",
       "      <td>0.0</td>\n",
       "      <td>0.0</td>\n",
       "      <td>3.0</td>\n",
       "      <td>0.0</td>\n",
       "      <td>0.000000</td>\n",
       "      <td>0.0</td>\n",
       "      <td>0.0</td>\n",
       "      <td>0.000896</td>\n",
       "    </tr>\n",
       "    <tr>\n",
       "      <th>...</th>\n",
       "      <td>...</td>\n",
       "      <td>...</td>\n",
       "      <td>...</td>\n",
       "      <td>...</td>\n",
       "      <td>...</td>\n",
       "      <td>...</td>\n",
       "      <td>...</td>\n",
       "      <td>...</td>\n",
       "      <td>...</td>\n",
       "      <td>...</td>\n",
       "      <td>...</td>\n",
       "      <td>...</td>\n",
       "      <td>...</td>\n",
       "      <td>...</td>\n",
       "      <td>...</td>\n",
       "      <td>...</td>\n",
       "    </tr>\n",
       "    <tr>\n",
       "      <th>17878</th>\n",
       "      <td>241745</td>\n",
       "      <td>0.0</td>\n",
       "      <td>0.0</td>\n",
       "      <td>0.0</td>\n",
       "      <td>0.0</td>\n",
       "      <td>1.0</td>\n",
       "      <td>0.0</td>\n",
       "      <td>0.0</td>\n",
       "      <td>0.0</td>\n",
       "      <td>0.0</td>\n",
       "      <td>1.0</td>\n",
       "      <td>0.0</td>\n",
       "      <td>0.000000</td>\n",
       "      <td>0.0</td>\n",
       "      <td>0.0</td>\n",
       "      <td>0.000705</td>\n",
       "    </tr>\n",
       "    <tr>\n",
       "      <th>17879</th>\n",
       "      <td>241896</td>\n",
       "      <td>0.0</td>\n",
       "      <td>4.0</td>\n",
       "      <td>0.0</td>\n",
       "      <td>0.0</td>\n",
       "      <td>1.0</td>\n",
       "      <td>0.0</td>\n",
       "      <td>4.0</td>\n",
       "      <td>0.0</td>\n",
       "      <td>0.0</td>\n",
       "      <td>1.0</td>\n",
       "      <td>0.0</td>\n",
       "      <td>0.006090</td>\n",
       "      <td>0.0</td>\n",
       "      <td>0.0</td>\n",
       "      <td>0.001470</td>\n",
       "    </tr>\n",
       "    <tr>\n",
       "      <th>17880</th>\n",
       "      <td>241903</td>\n",
       "      <td>0.0</td>\n",
       "      <td>1.0</td>\n",
       "      <td>0.0</td>\n",
       "      <td>0.0</td>\n",
       "      <td>0.0</td>\n",
       "      <td>0.0</td>\n",
       "      <td>1.0</td>\n",
       "      <td>0.0</td>\n",
       "      <td>0.0</td>\n",
       "      <td>0.0</td>\n",
       "      <td>0.0</td>\n",
       "      <td>0.000015</td>\n",
       "      <td>0.0</td>\n",
       "      <td>0.0</td>\n",
       "      <td>0.000000</td>\n",
       "    </tr>\n",
       "    <tr>\n",
       "      <th>17881</th>\n",
       "      <td>241977</td>\n",
       "      <td>0.0</td>\n",
       "      <td>1.0</td>\n",
       "      <td>0.0</td>\n",
       "      <td>0.0</td>\n",
       "      <td>0.0</td>\n",
       "      <td>0.0</td>\n",
       "      <td>1.0</td>\n",
       "      <td>0.0</td>\n",
       "      <td>0.0</td>\n",
       "      <td>0.0</td>\n",
       "      <td>0.0</td>\n",
       "      <td>0.006002</td>\n",
       "      <td>0.0</td>\n",
       "      <td>0.0</td>\n",
       "      <td>0.000000</td>\n",
       "    </tr>\n",
       "    <tr>\n",
       "      <th>17882</th>\n",
       "      <td>319129</td>\n",
       "      <td>0.0</td>\n",
       "      <td>2.0</td>\n",
       "      <td>0.0</td>\n",
       "      <td>0.0</td>\n",
       "      <td>0.0</td>\n",
       "      <td>0.0</td>\n",
       "      <td>2.0</td>\n",
       "      <td>0.0</td>\n",
       "      <td>0.0</td>\n",
       "      <td>0.0</td>\n",
       "      <td>0.0</td>\n",
       "      <td>0.063969</td>\n",
       "      <td>0.0</td>\n",
       "      <td>0.0</td>\n",
       "      <td>0.000000</td>\n",
       "    </tr>\n",
       "  </tbody>\n",
       "</table>\n",
       "<p>17883 rows × 16 columns</p>\n",
       "</div>"
      ],
      "text/plain": [
       "       product_id  num_buyers_Cellphone  num_buyers_Desktop  \\\n",
       "0               4                   0.0                 2.0   \n",
       "1              17                   0.0                 0.0   \n",
       "2              27                   0.0                 2.0   \n",
       "3              35                   0.0                 0.0   \n",
       "4              39                   0.0                 0.0   \n",
       "...           ...                   ...                 ...   \n",
       "17878      241745                   0.0                 0.0   \n",
       "17879      241896                   0.0                 4.0   \n",
       "17880      241903                   0.0                 1.0   \n",
       "17881      241977                   0.0                 1.0   \n",
       "17882      319129                   0.0                 2.0   \n",
       "\n",
       "       num_buyers_Smart TV  num_buyers_Tablet  num_buyers_eReaders  \\\n",
       "0                      0.0                0.0                  0.0   \n",
       "1                      0.0                0.0                  1.0   \n",
       "2                      0.0                0.0                  0.0   \n",
       "3                      0.0                0.0                  3.0   \n",
       "4                      0.0                0.0                  3.0   \n",
       "...                    ...                ...                  ...   \n",
       "17878                  0.0                0.0                  1.0   \n",
       "17879                  0.0                0.0                  1.0   \n",
       "17880                  0.0                0.0                  0.0   \n",
       "17881                  0.0                0.0                  0.0   \n",
       "17882                  0.0                0.0                  0.0   \n",
       "\n",
       "       vollume_sell_Cellphone  vollume_sell_Desktop  vollume_sell_Smart TV  \\\n",
       "0                         0.0                   2.0                    0.0   \n",
       "1                         0.0                   0.0                    0.0   \n",
       "2                         0.0                   2.0                    0.0   \n",
       "3                         0.0                   0.0                    0.0   \n",
       "4                         0.0                   0.0                    0.0   \n",
       "...                       ...                   ...                    ...   \n",
       "17878                     0.0                   0.0                    0.0   \n",
       "17879                     0.0                   4.0                    0.0   \n",
       "17880                     0.0                   1.0                    0.0   \n",
       "17881                     0.0                   1.0                    0.0   \n",
       "17882                     0.0                   2.0                    0.0   \n",
       "\n",
       "       vollume_sell_Tablet  vollume_sell_eReaders  total_sell_Cellphone  \\\n",
       "0                      0.0                    0.0                   0.0   \n",
       "1                      0.0                    1.0                   0.0   \n",
       "2                      0.0                    0.0                   0.0   \n",
       "3                      0.0                    3.0                   0.0   \n",
       "4                      0.0                    3.0                   0.0   \n",
       "...                    ...                    ...                   ...   \n",
       "17878                  0.0                    1.0                   0.0   \n",
       "17879                  0.0                    1.0                   0.0   \n",
       "17880                  0.0                    0.0                   0.0   \n",
       "17881                  0.0                    0.0                   0.0   \n",
       "17882                  0.0                    0.0                   0.0   \n",
       "\n",
       "       total_sell_Desktop  total_sell_Smart TV  total_sell_Tablet  \\\n",
       "0                0.000090                  0.0                0.0   \n",
       "1                0.000000                  0.0                0.0   \n",
       "2                0.000297                  0.0                0.0   \n",
       "3                0.000000                  0.0                0.0   \n",
       "4                0.000000                  0.0                0.0   \n",
       "...                   ...                  ...                ...   \n",
       "17878            0.000000                  0.0                0.0   \n",
       "17879            0.006090                  0.0                0.0   \n",
       "17880            0.000015                  0.0                0.0   \n",
       "17881            0.006002                  0.0                0.0   \n",
       "17882            0.063969                  0.0                0.0   \n",
       "\n",
       "       total_sell_eReaders  \n",
       "0                 0.000000  \n",
       "1                 0.000593  \n",
       "2                 0.000000  \n",
       "3                 0.000887  \n",
       "4                 0.000896  \n",
       "...                    ...  \n",
       "17878             0.000705  \n",
       "17879             0.001470  \n",
       "17880             0.000000  \n",
       "17881             0.000000  \n",
       "17882             0.000000  \n",
       "\n",
       "[17883 rows x 16 columns]"
      ]
     },
     "execution_count": 11,
     "metadata": {},
     "output_type": "execute_result"
    }
   ],
   "source": [
    "pivot_table"
   ]
  },
  {
   "cell_type": "code",
   "execution_count": 44,
   "metadata": {},
   "outputs": [],
   "source": [
    "prod_affiliate = df.groupby(['product_id', 'affiliate_id', 'have_affiliate']).agg(total_de_vendas = ('product_id', 'count'),\n",
    "                                               valor_de_vendas = ('purchase_transformed', 'sum')\n",
    "                                               ).reset_index()\n",
    "affiliate = df.groupby(['affiliate_id', 'have_affiliate']).agg(total_de_vendas = ('product_id', 'count'),\n",
    "                                               valor_de_vendas = ('purchase_transformed', 'sum')\n",
    "                                               ).reset_index()"
   ]
  },
  {
   "cell_type": "code",
   "execution_count": 92,
   "metadata": {},
   "outputs": [
    {
     "data": {
      "text/html": [
       "<div>\n",
       "<style scoped>\n",
       "    .dataframe tbody tr th:only-of-type {\n",
       "        vertical-align: middle;\n",
       "    }\n",
       "\n",
       "    .dataframe tbody tr th {\n",
       "        vertical-align: top;\n",
       "    }\n",
       "\n",
       "    .dataframe thead th {\n",
       "        text-align: right;\n",
       "    }\n",
       "</style>\n",
       "<table border=\"1\" class=\"dataframe\">\n",
       "  <thead>\n",
       "    <tr style=\"text-align: right;\">\n",
       "      <th></th>\n",
       "      <th>purchase_id</th>\n",
       "      <th>product_id</th>\n",
       "      <th>affiliate_id</th>\n",
       "      <th>producer_id</th>\n",
       "      <th>buyer_id</th>\n",
       "      <th>purchase_date</th>\n",
       "      <th>product_creation_date</th>\n",
       "      <th>product_category</th>\n",
       "      <th>product_niche</th>\n",
       "      <th>purchase_value</th>\n",
       "      <th>affiliate_commission_percentual</th>\n",
       "      <th>purchase_device</th>\n",
       "      <th>purchase_origin</th>\n",
       "      <th>is_origin_page_social_network</th>\n",
       "      <th>Venda</th>\n",
       "      <th>purchase_transformed</th>\n",
       "    </tr>\n",
       "  </thead>\n",
       "  <tbody>\n",
       "    <tr>\n",
       "      <th>222396</th>\n",
       "      <td>11288222</td>\n",
       "      <td>3336</td>\n",
       "      <td>50788</td>\n",
       "      <td>50788</td>\n",
       "      <td>2699</td>\n",
       "      <td>2016-01-28 19:49:52</td>\n",
       "      <td>2010-10-16 10:21:09</td>\n",
       "      <td>Phisical book</td>\n",
       "      <td>Presentation skills</td>\n",
       "      <td>-0.432554</td>\n",
       "      <td>0.0</td>\n",
       "      <td>Smart TV</td>\n",
       "      <td>Origin ef2b</td>\n",
       "      <td>0,0</td>\n",
       "      <td>1</td>\n",
       "      <td>0.000869</td>\n",
       "    </tr>\n",
       "    <tr>\n",
       "      <th>465362</th>\n",
       "      <td>11789529</td>\n",
       "      <td>3336</td>\n",
       "      <td>50788</td>\n",
       "      <td>50788</td>\n",
       "      <td>2699</td>\n",
       "      <td>2016-02-28 17:50:02</td>\n",
       "      <td>2010-10-16 10:21:09</td>\n",
       "      <td>Phisical book</td>\n",
       "      <td>Presentation skills</td>\n",
       "      <td>-0.432554</td>\n",
       "      <td>0.0</td>\n",
       "      <td>Smart TV</td>\n",
       "      <td>Origin ef2b</td>\n",
       "      <td>0,0</td>\n",
       "      <td>1</td>\n",
       "      <td>0.000869</td>\n",
       "    </tr>\n",
       "    <tr>\n",
       "      <th>720754</th>\n",
       "      <td>12306047</td>\n",
       "      <td>3336</td>\n",
       "      <td>50788</td>\n",
       "      <td>50788</td>\n",
       "      <td>2699</td>\n",
       "      <td>2016-03-28 17:30:21</td>\n",
       "      <td>2010-10-16 10:21:09</td>\n",
       "      <td>Phisical book</td>\n",
       "      <td>Presentation skills</td>\n",
       "      <td>-0.432554</td>\n",
       "      <td>0.0</td>\n",
       "      <td>Smart TV</td>\n",
       "      <td>Origin ef2b</td>\n",
       "      <td>0,0</td>\n",
       "      <td>1</td>\n",
       "      <td>0.000869</td>\n",
       "    </tr>\n",
       "    <tr>\n",
       "      <th>991408</th>\n",
       "      <td>12846906</td>\n",
       "      <td>3336</td>\n",
       "      <td>50788</td>\n",
       "      <td>50788</td>\n",
       "      <td>2699</td>\n",
       "      <td>2016-04-28 17:25:47</td>\n",
       "      <td>2010-10-16 10:21:09</td>\n",
       "      <td>Phisical book</td>\n",
       "      <td>Presentation skills</td>\n",
       "      <td>-0.432554</td>\n",
       "      <td>0.0</td>\n",
       "      <td>Smart TV</td>\n",
       "      <td>Origin ef2b</td>\n",
       "      <td>0,0</td>\n",
       "      <td>1</td>\n",
       "      <td>0.000869</td>\n",
       "    </tr>\n",
       "    <tr>\n",
       "      <th>1281678</th>\n",
       "      <td>13393547</td>\n",
       "      <td>3336</td>\n",
       "      <td>50788</td>\n",
       "      <td>50788</td>\n",
       "      <td>2699</td>\n",
       "      <td>2016-05-28 17:11:59</td>\n",
       "      <td>2010-10-16 10:21:09</td>\n",
       "      <td>Phisical book</td>\n",
       "      <td>Presentation skills</td>\n",
       "      <td>-0.432554</td>\n",
       "      <td>0.0</td>\n",
       "      <td>Smart TV</td>\n",
       "      <td>Origin ef2b</td>\n",
       "      <td>0,0</td>\n",
       "      <td>1</td>\n",
       "      <td>0.000869</td>\n",
       "    </tr>\n",
       "    <tr>\n",
       "      <th>1581627</th>\n",
       "      <td>13975925</td>\n",
       "      <td>3336</td>\n",
       "      <td>50788</td>\n",
       "      <td>50788</td>\n",
       "      <td>2699</td>\n",
       "      <td>2016-06-28 17:41:21</td>\n",
       "      <td>2010-10-16 10:21:09</td>\n",
       "      <td>Phisical book</td>\n",
       "      <td>Presentation skills</td>\n",
       "      <td>-0.432554</td>\n",
       "      <td>0.0</td>\n",
       "      <td>Smart TV</td>\n",
       "      <td>Origin ef2b</td>\n",
       "      <td>0,0</td>\n",
       "      <td>1</td>\n",
       "      <td>0.000869</td>\n",
       "    </tr>\n",
       "  </tbody>\n",
       "</table>\n",
       "</div>"
      ],
      "text/plain": [
       "         purchase_id  product_id  affiliate_id  producer_id  buyer_id  \\\n",
       "222396      11288222        3336         50788        50788      2699   \n",
       "465362      11789529        3336         50788        50788      2699   \n",
       "720754      12306047        3336         50788        50788      2699   \n",
       "991408      12846906        3336         50788        50788      2699   \n",
       "1281678     13393547        3336         50788        50788      2699   \n",
       "1581627     13975925        3336         50788        50788      2699   \n",
       "\n",
       "               purchase_date product_creation_date product_category  \\\n",
       "222396   2016-01-28 19:49:52   2010-10-16 10:21:09    Phisical book   \n",
       "465362   2016-02-28 17:50:02   2010-10-16 10:21:09    Phisical book   \n",
       "720754   2016-03-28 17:30:21   2010-10-16 10:21:09    Phisical book   \n",
       "991408   2016-04-28 17:25:47   2010-10-16 10:21:09    Phisical book   \n",
       "1281678  2016-05-28 17:11:59   2010-10-16 10:21:09    Phisical book   \n",
       "1581627  2016-06-28 17:41:21   2010-10-16 10:21:09    Phisical book   \n",
       "\n",
       "               product_niche  purchase_value  affiliate_commission_percentual  \\\n",
       "222396   Presentation skills       -0.432554                              0.0   \n",
       "465362   Presentation skills       -0.432554                              0.0   \n",
       "720754   Presentation skills       -0.432554                              0.0   \n",
       "991408   Presentation skills       -0.432554                              0.0   \n",
       "1281678  Presentation skills       -0.432554                              0.0   \n",
       "1581627  Presentation skills       -0.432554                              0.0   \n",
       "\n",
       "        purchase_device purchase_origin is_origin_page_social_network  Venda  \\\n",
       "222396         Smart TV     Origin ef2b                           0,0      1   \n",
       "465362         Smart TV     Origin ef2b                           0,0      1   \n",
       "720754         Smart TV     Origin ef2b                           0,0      1   \n",
       "991408         Smart TV     Origin ef2b                           0,0      1   \n",
       "1281678        Smart TV     Origin ef2b                           0,0      1   \n",
       "1581627        Smart TV     Origin ef2b                           0,0      1   \n",
       "\n",
       "         purchase_transformed  \n",
       "222396               0.000869  \n",
       "465362               0.000869  \n",
       "720754               0.000869  \n",
       "991408               0.000869  \n",
       "1281678              0.000869  \n",
       "1581627              0.000869  "
      ]
     },
     "execution_count": 92,
     "metadata": {},
     "output_type": "execute_result"
    }
   ],
   "source": [
    "prod_buy = df.groupby(['product_id', 'buyer_id']).agg(count = ('purchase_id', 'count'))\n",
    "prod_buy[prod_buy['count'] > 2]\n",
    "df[(df['product_id'] == 3336) & (df['buyer_id'] == 2699)]"
   ]
  },
  {
   "cell_type": "code",
   "execution_count": 85,
   "metadata": {},
   "outputs": [
    {
     "data": {
      "text/html": [
       "<div>\n",
       "<style scoped>\n",
       "    .dataframe tbody tr th:only-of-type {\n",
       "        vertical-align: middle;\n",
       "    }\n",
       "\n",
       "    .dataframe tbody tr th {\n",
       "        vertical-align: top;\n",
       "    }\n",
       "\n",
       "    .dataframe thead th {\n",
       "        text-align: right;\n",
       "    }\n",
       "</style>\n",
       "<table border=\"1\" class=\"dataframe\">\n",
       "  <thead>\n",
       "    <tr style=\"text-align: right;\">\n",
       "      <th></th>\n",
       "      <th>purchase_id</th>\n",
       "      <th>product_id</th>\n",
       "      <th>affiliate_id</th>\n",
       "      <th>producer_id</th>\n",
       "      <th>buyer_id</th>\n",
       "      <th>purchase_date</th>\n",
       "      <th>product_creation_date</th>\n",
       "      <th>product_category</th>\n",
       "      <th>product_niche</th>\n",
       "      <th>purchase_value</th>\n",
       "      <th>affiliate_commission_percentual</th>\n",
       "      <th>purchase_device</th>\n",
       "      <th>purchase_origin</th>\n",
       "      <th>is_origin_page_social_network</th>\n",
       "      <th>Venda</th>\n",
       "      <th>purchase_transformed</th>\n",
       "    </tr>\n",
       "  </thead>\n",
       "  <tbody>\n",
       "    <tr>\n",
       "      <th>0</th>\n",
       "      <td>1663958</td>\n",
       "      <td>6640</td>\n",
       "      <td>209372</td>\n",
       "      <td>116238</td>\n",
       "      <td>1200397</td>\n",
       "      <td>2016-06-26 12:00:00</td>\n",
       "      <td>2011-03-19 15:47:36</td>\n",
       "      <td>Video</td>\n",
       "      <td>Presentation skills</td>\n",
       "      <td>-0.265302</td>\n",
       "      <td>NaN</td>\n",
       "      <td>Smart TV</td>\n",
       "      <td>Origin ef2b</td>\n",
       "      <td>0,0</td>\n",
       "      <td>1</td>\n",
       "      <td>0.002206</td>\n",
       "    </tr>\n",
       "    <tr>\n",
       "      <th>1</th>\n",
       "      <td>1677087</td>\n",
       "      <td>2350</td>\n",
       "      <td>141418</td>\n",
       "      <td>2821</td>\n",
       "      <td>1083764</td>\n",
       "      <td>2016-06-26 12:00:00</td>\n",
       "      <td>2010-07-05 01:50:15</td>\n",
       "      <td>Podcast</td>\n",
       "      <td>Child psychology</td>\n",
       "      <td>-0.177077</td>\n",
       "      <td>NaN</td>\n",
       "      <td>Smart TV</td>\n",
       "      <td>Origin ef2b</td>\n",
       "      <td>0,0</td>\n",
       "      <td>1</td>\n",
       "      <td>0.002911</td>\n",
       "    </tr>\n",
       "    <tr>\n",
       "      <th>2</th>\n",
       "      <td>2017360</td>\n",
       "      <td>35669</td>\n",
       "      <td>618642</td>\n",
       "      <td>618642</td>\n",
       "      <td>1436106</td>\n",
       "      <td>2016-06-26 12:00:00</td>\n",
       "      <td>2012-06-13 02:59:37</td>\n",
       "      <td>Podcast</td>\n",
       "      <td>Presentation skills</td>\n",
       "      <td>-0.468989</td>\n",
       "      <td>NaN</td>\n",
       "      <td>Smart TV</td>\n",
       "      <td>Origin ef2b</td>\n",
       "      <td>0,0</td>\n",
       "      <td>1</td>\n",
       "      <td>0.000578</td>\n",
       "    </tr>\n",
       "    <tr>\n",
       "      <th>3</th>\n",
       "      <td>2017379</td>\n",
       "      <td>57998</td>\n",
       "      <td>1164511</td>\n",
       "      <td>70388</td>\n",
       "      <td>1436118</td>\n",
       "      <td>2016-06-26 12:00:00</td>\n",
       "      <td>2013-05-07 08:51:31</td>\n",
       "      <td>Podcast</td>\n",
       "      <td>Anxiety management</td>\n",
       "      <td>-0.401168</td>\n",
       "      <td>NaN</td>\n",
       "      <td>Smart TV</td>\n",
       "      <td>Origin ef2b</td>\n",
       "      <td>0,0</td>\n",
       "      <td>1</td>\n",
       "      <td>0.001120</td>\n",
       "    </tr>\n",
       "    <tr>\n",
       "      <th>4</th>\n",
       "      <td>2017382</td>\n",
       "      <td>58329</td>\n",
       "      <td>1261488</td>\n",
       "      <td>221253</td>\n",
       "      <td>1386357</td>\n",
       "      <td>2016-06-26 12:00:00</td>\n",
       "      <td>2013-05-12 08:12:06</td>\n",
       "      <td>Podcast</td>\n",
       "      <td>Teaching English</td>\n",
       "      <td>-0.452489</td>\n",
       "      <td>NaN</td>\n",
       "      <td>Smart TV</td>\n",
       "      <td>Origin ef2b</td>\n",
       "      <td>0,0</td>\n",
       "      <td>1</td>\n",
       "      <td>0.000709</td>\n",
       "    </tr>\n",
       "    <tr>\n",
       "      <th>...</th>\n",
       "      <td>...</td>\n",
       "      <td>...</td>\n",
       "      <td>...</td>\n",
       "      <td>...</td>\n",
       "      <td>...</td>\n",
       "      <td>...</td>\n",
       "      <td>...</td>\n",
       "      <td>...</td>\n",
       "      <td>...</td>\n",
       "      <td>...</td>\n",
       "      <td>...</td>\n",
       "      <td>...</td>\n",
       "      <td>...</td>\n",
       "      <td>...</td>\n",
       "      <td>...</td>\n",
       "      <td>...</td>\n",
       "    </tr>\n",
       "    <tr>\n",
       "      <th>1599823</th>\n",
       "      <td>14011995</td>\n",
       "      <td>238362</td>\n",
       "      <td>7586641</td>\n",
       "      <td>7586641</td>\n",
       "      <td>5736172</td>\n",
       "      <td>2016-06-30 23:59:57</td>\n",
       "      <td>2016-06-16 12:10:46</td>\n",
       "      <td>Phisical book</td>\n",
       "      <td>Personal finance</td>\n",
       "      <td>-0.345361</td>\n",
       "      <td>0.0</td>\n",
       "      <td>eReaders</td>\n",
       "      <td>Origin 3022</td>\n",
       "      <td>0,0</td>\n",
       "      <td>1</td>\n",
       "      <td>0.001566</td>\n",
       "    </tr>\n",
       "    <tr>\n",
       "      <th>1599824</th>\n",
       "      <td>14012431</td>\n",
       "      <td>61279</td>\n",
       "      <td>589022</td>\n",
       "      <td>589022</td>\n",
       "      <td>946067</td>\n",
       "      <td>2016-06-30 21:40:11</td>\n",
       "      <td>2013-06-15 16:41:06</td>\n",
       "      <td>Phisical book</td>\n",
       "      <td>Personal finance</td>\n",
       "      <td>-0.471786</td>\n",
       "      <td>0.0</td>\n",
       "      <td>Smart TV</td>\n",
       "      <td>Origin ef2b</td>\n",
       "      <td>0,0</td>\n",
       "      <td>1</td>\n",
       "      <td>0.000555</td>\n",
       "    </tr>\n",
       "    <tr>\n",
       "      <th>1599825</th>\n",
       "      <td>14343996</td>\n",
       "      <td>215242</td>\n",
       "      <td>1186145</td>\n",
       "      <td>1186145</td>\n",
       "      <td>6473172</td>\n",
       "      <td>2016-05-13 16:45:42</td>\n",
       "      <td>2016-03-26 17:59:47</td>\n",
       "      <td>Phisical book</td>\n",
       "      <td>Negotiation</td>\n",
       "      <td>-0.359158</td>\n",
       "      <td>0.0</td>\n",
       "      <td>Smart TV</td>\n",
       "      <td>Origin ef2b</td>\n",
       "      <td>0,0</td>\n",
       "      <td>1</td>\n",
       "      <td>0.001455</td>\n",
       "    </tr>\n",
       "    <tr>\n",
       "      <th>1599826</th>\n",
       "      <td>14344113</td>\n",
       "      <td>215242</td>\n",
       "      <td>1186145</td>\n",
       "      <td>1186145</td>\n",
       "      <td>6473172</td>\n",
       "      <td>2016-06-22 14:39:05</td>\n",
       "      <td>2016-03-26 17:59:47</td>\n",
       "      <td>Phisical book</td>\n",
       "      <td>Negotiation</td>\n",
       "      <td>-0.359158</td>\n",
       "      <td>0.0</td>\n",
       "      <td>Smart TV</td>\n",
       "      <td>Origin ef2b</td>\n",
       "      <td>0,0</td>\n",
       "      <td>1</td>\n",
       "      <td>0.001455</td>\n",
       "    </tr>\n",
       "    <tr>\n",
       "      <th>1599827</th>\n",
       "      <td>14357203</td>\n",
       "      <td>215242</td>\n",
       "      <td>1186145</td>\n",
       "      <td>1186145</td>\n",
       "      <td>6473172</td>\n",
       "      <td>2016-04-11 19:37:25</td>\n",
       "      <td>2016-03-26 17:59:47</td>\n",
       "      <td>Phisical book</td>\n",
       "      <td>Negotiation</td>\n",
       "      <td>-0.359158</td>\n",
       "      <td>0.0</td>\n",
       "      <td>Tablet</td>\n",
       "      <td>Origin 3fcc</td>\n",
       "      <td>0,0</td>\n",
       "      <td>1</td>\n",
       "      <td>0.001455</td>\n",
       "    </tr>\n",
       "  </tbody>\n",
       "</table>\n",
       "<p>1599828 rows × 16 columns</p>\n",
       "</div>"
      ],
      "text/plain": [
       "         purchase_id  product_id  affiliate_id  producer_id  buyer_id  \\\n",
       "0            1663958        6640        209372       116238   1200397   \n",
       "1            1677087        2350        141418         2821   1083764   \n",
       "2            2017360       35669        618642       618642   1436106   \n",
       "3            2017379       57998       1164511        70388   1436118   \n",
       "4            2017382       58329       1261488       221253   1386357   \n",
       "...              ...         ...           ...          ...       ...   \n",
       "1599823     14011995      238362       7586641      7586641   5736172   \n",
       "1599824     14012431       61279        589022       589022    946067   \n",
       "1599825     14343996      215242       1186145      1186145   6473172   \n",
       "1599826     14344113      215242       1186145      1186145   6473172   \n",
       "1599827     14357203      215242       1186145      1186145   6473172   \n",
       "\n",
       "               purchase_date product_creation_date product_category  \\\n",
       "0        2016-06-26 12:00:00   2011-03-19 15:47:36            Video   \n",
       "1        2016-06-26 12:00:00   2010-07-05 01:50:15          Podcast   \n",
       "2        2016-06-26 12:00:00   2012-06-13 02:59:37          Podcast   \n",
       "3        2016-06-26 12:00:00   2013-05-07 08:51:31          Podcast   \n",
       "4        2016-06-26 12:00:00   2013-05-12 08:12:06          Podcast   \n",
       "...                      ...                   ...              ...   \n",
       "1599823  2016-06-30 23:59:57   2016-06-16 12:10:46    Phisical book   \n",
       "1599824  2016-06-30 21:40:11   2013-06-15 16:41:06    Phisical book   \n",
       "1599825  2016-05-13 16:45:42   2016-03-26 17:59:47    Phisical book   \n",
       "1599826  2016-06-22 14:39:05   2016-03-26 17:59:47    Phisical book   \n",
       "1599827  2016-04-11 19:37:25   2016-03-26 17:59:47    Phisical book   \n",
       "\n",
       "               product_niche  purchase_value  affiliate_commission_percentual  \\\n",
       "0        Presentation skills       -0.265302                              NaN   \n",
       "1           Child psychology       -0.177077                              NaN   \n",
       "2        Presentation skills       -0.468989                              NaN   \n",
       "3         Anxiety management       -0.401168                              NaN   \n",
       "4           Teaching English       -0.452489                              NaN   \n",
       "...                      ...             ...                              ...   \n",
       "1599823     Personal finance       -0.345361                              0.0   \n",
       "1599824     Personal finance       -0.471786                              0.0   \n",
       "1599825          Negotiation       -0.359158                              0.0   \n",
       "1599826          Negotiation       -0.359158                              0.0   \n",
       "1599827          Negotiation       -0.359158                              0.0   \n",
       "\n",
       "        purchase_device purchase_origin is_origin_page_social_network  Venda  \\\n",
       "0              Smart TV     Origin ef2b                           0,0      1   \n",
       "1              Smart TV     Origin ef2b                           0,0      1   \n",
       "2              Smart TV     Origin ef2b                           0,0      1   \n",
       "3              Smart TV     Origin ef2b                           0,0      1   \n",
       "4              Smart TV     Origin ef2b                           0,0      1   \n",
       "...                 ...             ...                           ...    ...   \n",
       "1599823        eReaders     Origin 3022                           0,0      1   \n",
       "1599824        Smart TV     Origin ef2b                           0,0      1   \n",
       "1599825        Smart TV     Origin ef2b                           0,0      1   \n",
       "1599826        Smart TV     Origin ef2b                           0,0      1   \n",
       "1599827          Tablet     Origin 3fcc                           0,0      1   \n",
       "\n",
       "         purchase_transformed  \n",
       "0                    0.002206  \n",
       "1                    0.002911  \n",
       "2                    0.000578  \n",
       "3                    0.001120  \n",
       "4                    0.000709  \n",
       "...                       ...  \n",
       "1599823              0.001566  \n",
       "1599824              0.000555  \n",
       "1599825              0.001455  \n",
       "1599826              0.001455  \n",
       "1599827              0.001455  \n",
       "\n",
       "[1599828 rows x 16 columns]"
      ]
     },
     "execution_count": 85,
     "metadata": {},
     "output_type": "execute_result"
    }
   ],
   "source": [
    "df.groupby(by=['product_id', 'affiliate_id', 'producer_id', 'buyer_id', 'purchase_date', ])"
   ]
  },
  {
   "attachments": {},
   "cell_type": "markdown",
   "metadata": {},
   "source": [
    "## Model Results"
   ]
  },
  {
   "cell_type": "code",
   "execution_count": 34,
   "metadata": {},
   "outputs": [
    {
     "data": {
      "image/png": "[encoded data removed]",
      "text/plain": [
       "<Figure size 640x480 with 1 Axes>"
      ]
     },
     "metadata": {},
     "output_type": "display_data"
    }
   ],
   "source": [
    "#X_train[['target', 'pred']].reset_index().drop(columns=['index']).sort_index().plot()\n",
    "X_train['percentage_error'] = (X_train['pred']-X_train['target'])/X_train['target']"
   ]
  },
  {
   "cell_type": "code",
   "execution_count": 47,
   "metadata": {},
   "outputs": [
    {
     "data": {
      "text/plain": [
       "<Axes: >"
      ]
     },
     "execution_count": 47,
     "metadata": {},
     "output_type": "execute_result"
    },
    {
     "data": {
      "image/png": "[encoded data removed]",
      "text/plain": [
       "<Figure size 640x480 with 1 Axes>"
      ]
     },
     "metadata": {},
     "output_type": "display_data"
    }
   ],
   "source": [
    "X_train[['target', 'pred']].round(2).groupby('target')['pred'].mean().reset_index().plot()"
   ]
  },
  {
   "cell_type": "code",
   "execution_count": 40,
   "metadata": {},
   "outputs": [
    {
     "data": {
      "text/plain": [
       "-27542.35953447439"
      ]
     },
     "execution_count": 40,
     "metadata": {},
     "output_type": "execute_result"
    }
   ],
   "source": [
    "X_train['percentage_error'].min()"
   ]
  },
  {
   "cell_type": "code",
   "execution_count": null,
   "metadata": {},
   "outputs": [],
   "source": []
  }
 ],
 "metadata": {
  "kernelspec": {
   "display_name": "Python 3",
   "language": "python",
   "name": "python3"
  },
  "language_info": {
   "codemirror_mode": {
    "name": "ipython",
    "version": 3
   },
   "file_extension": ".py",
   "mimetype": "text/x-python",
   "name": "python",
   "nbconvert_exporter": "python",
   "pygments_lexer": "ipython3",
   "version": "3.10.11"
  },
  "orig_nbformat": 4
 },
 "nbformat": 4,
 "nbformat_minor": 2
}
